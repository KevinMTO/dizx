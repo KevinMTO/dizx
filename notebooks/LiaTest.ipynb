{
 "cells": [
  {
   "cell_type": "code",
   "execution_count": 2,
   "metadata": {},
   "outputs": [
    {
     "name": "stdout",
     "output_type": "stream",
     "text": [
      "The autoreload extension is already loaded. To reload it, use:\n",
      "  %reload_ext autoreload\n"
     ]
    }
   ],
   "source": [
    "%load_ext autoreload\n",
    "%autoreload 2\n",
    "import sys\n",
    "sys.path.append('..')\n",
    "import dizx"
   ]
  },
  {
   "cell_type": "code",
   "execution_count": 21,
   "metadata": {},
   "outputs": [
    {
     "data": {
      "text/plain": [
       "[HAD(1),\n",
       " HAD(3),\n",
       " CZ(2,3),\n",
       " HAD(3),\n",
       " HAD(3),\n",
       " HAD(3),\n",
       " HAD(3),\n",
       " CZ(1,3),\n",
       " HAD(3),\n",
       " HAD(1),\n",
       " CZ(3,1),\n",
       " HAD(1),\n",
       " HAD(3),\n",
       " CZ(1,3),\n",
       " HAD(3)]"
      ]
     },
     "execution_count": 21,
     "metadata": {},
     "output_type": "execute_result"
    }
   ],
   "source": [
    "c = dizx.Circuit(3)\n",
    "c.add_gate(\"H\", 1)\n",
    "c.add_gate(\"CX\", 2, 3)\n",
    "c.add_gate(\"SWAP\", 1, 3)\n",
    "c.to_basic_gates().gates"
   ]
  },
  {
   "cell_type": "code",
   "execution_count": null,
   "metadata": {},
   "outputs": [],
   "source": []
  }
 ],
 "metadata": {
  "kernelspec": {
   "display_name": "Python 3",
   "language": "python",
   "name": "python3"
  },
  "language_info": {
   "codemirror_mode": {
    "name": "ipython",
    "version": 3
   },
   "file_extension": ".py",
   "mimetype": "text/x-python",
   "name": "python",
   "nbconvert_exporter": "python",
   "pygments_lexer": "ipython3",
   "version": "3.9.2"
  },
  "orig_nbformat": 4,
  "vscode": {
   "interpreter": {
    "hash": "599b14eec41e38006259cd65d7a71b31baa7b06547b954dde6888c6959f27cb0"
   }
  }
 },
 "nbformat": 4,
 "nbformat_minor": 2
}
