{
 "cells": [
  {
   "cell_type": "code",
   "execution_count": null,
   "id": "c2f956a7",
   "metadata": {},
   "outputs": [],
   "source": [
    "%load_ext autoreload\n",
    "%autoreload 2\n",
    "import sys\n",
    "sys.path.append('..')"
   ]
  },
  {
   "cell_type": "code",
   "execution_count": null,
   "id": "94bf354c",
   "metadata": {},
   "outputs": [],
   "source": [
    "import dizx\n",
    "Phase = dizx.CliffordPhase\n",
    "d = 3"
   ]
  },
  {
   "cell_type": "code",
   "execution_count": null,
   "id": "b0efae12",
   "metadata": {},
   "outputs": [],
   "source": [
    "g = dizx.Graph(d)"
   ]
  },
  {
   "cell_type": "code",
   "execution_count": null,
   "id": "2993defb",
   "metadata": {},
   "outputs": [],
   "source": [
    "v = g.add_vertex(1,qubit=1,row=0)\n",
    "phase = Phase(d,1)\n",
    "w = g.add_vertex(2,qubit=2,row=1,phase=phase)\n",
    "g.add_edge(g.edge(v,w),dizx.Edge(d,had=2))\n",
    "x = g.add_vertex(2,qubit=2,row=2,phase=phase)\n",
    "g.add_edge(g.edge(w,x),dizx.Edge(d,simple=2))"
   ]
  },
  {
   "cell_type": "code",
   "execution_count": null,
   "id": "c106402d",
   "metadata": {},
   "outputs": [],
   "source": [
    "z = g.add_vertex(0,0,0)\n",
    "g.add_edge(g.edge(z,v),eo:=dizx.Edge(d,simple=1))"
   ]
  },
  {
   "cell_type": "code",
   "execution_count": null,
   "id": "f78ef8c0",
   "metadata": {},
   "outputs": [],
   "source": [
    "dizx.draw(g)"
   ]
  },
  {
   "cell_type": "code",
   "execution_count": null,
   "id": "871a8140",
   "metadata": {},
   "outputs": [],
   "source": [
    "from dizx.basicrules import z_elim\n",
    "\n",
    "z_elim(g, v)"
   ]
  },
  {
   "cell_type": "code",
   "execution_count": null,
   "outputs": [],
   "source": [
    "dizx.draw(g)"
   ],
   "metadata": {
    "collapsed": false
   }
  },
  {
   "cell_type": "code",
   "execution_count": null,
   "outputs": [],
   "source": [
    "from dizx.basicrules import fuse\n",
    "\n",
    "fuse(g, w, x)"
   ],
   "metadata": {
    "collapsed": false
   }
  },
  {
   "cell_type": "code",
   "execution_count": null,
   "outputs": [],
   "source": [
    "dizx.draw(g)"
   ],
   "metadata": {
    "collapsed": false
   }
  },
  {
   "cell_type": "code",
   "execution_count": null,
   "outputs": [],
   "source": [],
   "metadata": {
    "collapsed": false
   }
  }
 ],
 "metadata": {
  "kernelspec": {
   "display_name": "Python 3 (ipykernel)",
   "language": "python",
   "name": "python3"
  },
  "language_info": {
   "codemirror_mode": {
    "name": "ipython",
    "version": 3
   },
   "file_extension": ".py",
   "mimetype": "text/x-python",
   "name": "python",
   "nbconvert_exporter": "python",
   "pygments_lexer": "ipython3",
   "version": "3.11.2"
  }
 },
 "nbformat": 4,
 "nbformat_minor": 5
}
