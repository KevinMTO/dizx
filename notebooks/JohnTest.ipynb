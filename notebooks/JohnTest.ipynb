{
 "cells": [
  {
   "cell_type": "code",
   "execution_count": 1,
   "id": "3f4fd0b1",
   "metadata": {},
   "outputs": [],
   "source": [
    "%load_ext autoreload\n",
    "%autoreload 2\n",
    "import sys\n",
    "sys.path.append('..')\n",
    "import dizx"
   ]
  },
  {
   "cell_type": "code",
   "execution_count": 2,
   "id": "db35b792",
   "metadata": {},
   "outputs": [],
   "source": [
    "g = dizx.Graph(3)"
   ]
  },
  {
   "cell_type": "code",
   "execution_count": 3,
   "id": "39bfacc4",
   "metadata": {},
   "outputs": [],
   "source": [
    "v = g.add_vertex(1)"
   ]
  },
  {
   "cell_type": "code",
   "execution_count": 4,
   "id": "dd486ba5",
   "metadata": {},
   "outputs": [],
   "source": [
    "w = g.add_vertex(2)"
   ]
  },
  {
   "cell_type": "code",
   "execution_count": 5,
   "id": "9b138ed8",
   "metadata": {},
   "outputs": [],
   "source": [
    "eo = dizx.Edge(3)"
   ]
  },
  {
   "cell_type": "code",
   "execution_count": 6,
   "id": "ed408486",
   "metadata": {},
   "outputs": [],
   "source": [
    "e = g.add_edge(g.edge(v,w),eo)"
   ]
  },
  {
   "cell_type": "code",
   "execution_count": 8,
   "id": "0c63abef",
   "metadata": {},
   "outputs": [
    {
     "data": {
      "text/plain": [
       "Graph(2 vertices, 1 edges, dimension 3)"
      ]
     },
     "execution_count": 8,
     "metadata": {},
     "output_type": "execute_result"
    }
   ],
   "source": [
    "g"
   ]
  }
 ],
 "metadata": {
  "kernelspec": {
   "display_name": "Python 3 (ipykernel)",
   "language": "python",
   "name": "python3"
  },
  "language_info": {
   "codemirror_mode": {
    "name": "ipython",
    "version": 3
   },
   "file_extension": ".py",
   "mimetype": "text/x-python",
   "name": "python",
   "nbconvert_exporter": "python",
   "pygments_lexer": "ipython3",
   "version": "3.11.2"
  }
 },
 "nbformat": 4,
 "nbformat_minor": 5
}
