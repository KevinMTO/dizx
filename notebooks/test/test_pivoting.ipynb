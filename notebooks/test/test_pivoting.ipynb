{
 "cells": [
  {
   "cell_type": "code",
   "execution_count": 27,
   "outputs": [
    {
     "name": "stdout",
     "output_type": "stream",
     "text": [
      "The autoreload extension is already loaded. To reload it, use:\n",
      "  %reload_ext autoreload\n"
     ]
    }
   ],
   "source": [
    "%load_ext autoreload\n",
    "%autoreload 2\n",
    "import sys\n",
    "sys.path.append('..')\n",
    "import dizx"
   ],
   "metadata": {
    "collapsed": false,
    "ExecuteTime": {
     "end_time": "2023-07-12T19:18:00.229145Z",
     "start_time": "2023-07-12T19:18:00.209938Z"
    }
   }
  },
  {
   "cell_type": "code",
   "execution_count": 28,
   "outputs": [
    {
     "data": {
      "text/plain": "[HAD(1), HAD(3), CZ(2,3), HAD(3), HAD(3), HAD(3), CX(1,3), CX(3,1), CX(1,3)]"
     },
     "execution_count": 28,
     "metadata": {},
     "output_type": "execute_result"
    }
   ],
   "source": [
    "c = dizx.Circuit(3)\n",
    "c.add_gate(\"H\", 1)\n",
    "c.add_gate(\"CX\", 2, 3)\n",
    "c.add_gate(\"SWAP\", 1, 3)\n",
    "c.to_basic_gates().gates"
   ],
   "metadata": {
    "collapsed": false,
    "ExecuteTime": {
     "end_time": "2023-07-12T19:18:00.242618Z",
     "start_time": "2023-07-12T19:18:00.227074Z"
    }
   }
  },
  {
   "cell_type": "code",
   "execution_count": 29,
   "outputs": [
    {
     "data": {
      "text/plain": "<IPython.core.display.HTML object>",
      "text/html": "<div style=\"overflow:auto\" id=\"graph-output-FdpBvG6j\"></div>\n<script type=\"module\">\nvar d3;\nif (d3 == null) { d3 = await import(\"https://cdn.skypack.dev/d3@5\"); }\n// PyZX - Python library for quantum circuit rewriting \n//        and optimisation using the ZX-calculus\n// Copyright (C) 2023 - Boldiszar Poor, Lia Yeh and John van de Wetering\n\n// Licensed under the Apache License, Version 2.0 (the \"License\");\n// you may not use this file except in compliance with the License.\n// You may obtain a copy of the License at\n\n//    http://www.apache.org/licenses/LICENSE-2.0\n\n// Unless required by applicable law or agreed to in writing, software\n// distributed under the License is distributed on an \"AS IS\" BASIS,\n// WITHOUT WARRANTIES OR CONDITIONS OF ANY KIND, either express or implied.\n// See the License for the specific language governing permissions and\n// limitations under the License.\n\n// styling functions\nfunction nodeColor(t) {\n    if (t == 0) return \"black\";\n    else if (t == 1) return \"#ccffcc\";\n    else if (t == 2) return \"#ff8888\";\n    else if (t == 3) return \"yellow\";\n    else if (t == 4) return \"#555555\";\n}\n\nfunction edgeColor(t) {\n    if (t == 1) return \"black\";\n    else if (t == 2) return \"#08f\";\n}\n\nfunction nodeStyle(selected) {\n    return selected ? \"stroke-width: 2px; stroke: #00f\" : \"stroke-width: 1.5px\";\n}\n\n\nfunction showGraph(tag, graph, width, height, scale, node_size, show_labels) {\n    var ntab = {};\n\n    var auto_hbox = true;\n\n    graph.nodes.forEach(function(d) {\n        ntab[d.name] = d;\n        d.selected = false;\n        d.previouslySelected = false;\n        d.nhd = [];\n    });\n\n    var spiders_and_boundaries = graph.nodes.filter(function(d) {\n        return d.t != 3 && d.t != 4;\n    });\n\n    graph.links.forEach(function(d) {\n        var s = ntab[d.source];\n        var t = ntab[d.target];\n        d.source = s;\n        d.target = t;\n        s.nhd.push(t);\n        t.nhd.push(s);\n    });\n\n    var shiftKey;\n\n    // SETUP SVG ITEMS\n\n    var svg = d3.select(tag)\n    //.attr(\"tabindex\", 1)\n        .on(\"keydown.brush\", function() {shiftKey = d3.event.shiftKey || d3.event.metaKey;})\n        .on(\"keyup.brush\", function() {shiftKey = d3.event.shiftKey || d3.event.metaKey;})\n    //.each(function() { this.focus(); })\n        .append(\"svg\")\n        .attr(\"style\", \"max-width: none; max-height: none\")\n        .attr(\"width\", width)\n        .attr(\"height\", height);\n\n    var link = svg.append(\"g\")\n        .attr(\"class\", \"link\")\n        .selectAll(\"line\")\n        .data(graph.links)\n        .enter().append(\"line\")\n        .attr(\"stroke\", function(d) { return edgeColor(d.t); })\n        .attr(\"style\", \"stroke-width: 1.5px\");\n\n    var brush = svg.append(\"g\")\n        .attr(\"class\", \"brush\");\n\n    var node = svg.append(\"g\")\n        .attr(\"class\", \"node\")\n        .selectAll(\"g\")\n        .data(graph.nodes)\n        .enter().append(\"g\")\n        .attr(\"transform\", function(d) {\n            return \"translate(\" + d.x + \",\" + d.y +\")\";\n        });\n\n    node.filter(function(d) { return d.t != 3 && d.t != 4; })\n        .append(\"circle\")\n        .attr(\"r\", function(d) {\n            if (d.t == 0) return 0.5 * node_size;\n            else return node_size;\n        })\n        .attr(\"fill\", function(d) { return nodeColor(d.t); })\n        .attr(\"stroke\", \"black\")\n        .attr(\"class\", \"selectable\");\n\n    var hbox = node.filter(function(d) { return d.t == 3 || d.t == 4; });\n\n    hbox.append(\"rect\")\n        .attr(\"x\", -0.75 * node_size).attr(\"y\", -0.75 * node_size)\n        .attr(\"width\", node_size * 1.5).attr(\"height\", node_size * 1.5)\n        .attr(\"fill\", function(d) { return nodeColor(d.t); })\n        .attr(\"stroke\", \"black\")\n        .attr('style', 'pointer-events: none; user-select: none;');\n        // .attr(\"class\", \"selectable\");\n\n    node.filter(function(d) { return d.phase != '' && d.t > 2; })\n        .append(\"text\")\n        .attr(\"y\", -0.1 * node_size + 4)\n        .text(function (d) { return d.phase })\n        .attr(\"text-anchor\", \"middle\")\n        .attr(\"font-size\", \"11px\")\n        .attr(\"font-family\", \"monospace\")\n        .attr(\"fill\", \"#000\")\n        .attr('style', 'pointer-events: none; user-select: none;');\n\n    node.filter(function(d) { return d.phase != '' && d.t < 3; })\n        .append(\"text\")\n        .attr(\"y\", -1.3 * node_size)\n        .text(function (d) { return d.phase })\n        .attr(\"text-anchor\", \"middle\")\n        .attr(\"font-size\", \"11px\")\n        .attr(\"font-family\", \"monospace\")\n        .attr(\"fill\", \"#00d\")\n        .attr('style', 'pointer-events: none; user-select: none;');\n\n    if (show_labels) {\n        node.append(\"text\")\n            .attr(\"y\", -0.7 * node_size - 8)\n            .text(function (d) { return d.name; })\n            .attr(\"text-anchor\", \"middle\")\n            .attr(\"font-size\", \"10px\")\n            .attr(\"font-family\", \"monospace\")\n            .attr(\"fill\", \"#999\")\n            .attr('style', 'pointer-events: none; user-select: none;');\n    }\n\n    function update_hboxes() {\n        if (auto_hbox) {\n            // var pos = {};\n            hbox.attr(\"transform\", function(d) {\n                // calculate barycenter of non-hbox neighbours, then nudge a bit\n                // to the NE.\n                var x=0,y=0,sz=0;\n                for (var i = 0; i < d.nhd.length; ++i) {\n                    if (d.nhd[i].t != 3 && d.nhd[i].t != 4) {\n                        sz++;\n                        x += d.nhd[i].x;\n                        y += d.nhd[i].y;\n                    }\n                }\n\n                // var offset = 0.25 * scale;\n                var offset = 0;\n\n                if (sz != 0) {\n                    x = (x/sz) + offset;\n                    y = (y/sz) - offset;\n\n                    // while (pos[[x,y]]) {\n                    //     x += offset;\n                    // }\n                    d.x = x;\n                    d.y = y;\n                    // pos[[x,y]] = true;\n                }\n\n                return \"translate(\"+d.x+\",\"+d.y+\")\";\n            });\n        }\n    }\n\n    update_hboxes();\n\n    link.attr(\"x1\", function(d) { return d.source.x; })\n        .attr(\"y1\", function(d) { return d.source.y; })\n        .attr(\"x2\", function(d) { return d.target.x; })\n        .attr(\"y2\", function(d) { return d.target.y; });\n\n    // EVENTS FOR DRAGGING AND SELECTION\n\n    node.on(\"mousedown\", function(d) {\n        if (shiftKey) {\n            d3.select(this).selectAll(\".selectable\").attr(\"style\", nodeStyle(d.selected = !d.selected));\n            d3.event.stopImmediatePropagation();\n        } else if (!d.selected) {\n            node.selectAll(\".selectable\").attr(\"style\", function(p) { return nodeStyle(p.selected = d === p); });\n        }\n    })\n        .call(d3.drag().on(\"drag\", function(d) {\n            var dx = d3.event.dx;\n            var dy = d3.event.dy;\n            // node.filter(function(d) { return d.selected; })\n            //     .attr(\"cx\", function(d) { return d.x += dx; })\n            //     .attr(\"cy\", function(d) { return d.y += dy; });\n            node.filter(function(d) { return d.selected; })\n                .attr(\"transform\", function(d) {\n                    d.x += dx;\n                    d.y += dy;\n                    return \"translate(\" + d.x + \",\" + d.y +\")\";\n                });\n\n            update_hboxes();\n\n            link.filter(function(d) { return d.source.selected ||\n                    (auto_hbox && (d.source.t == 3 || d.source.t == 4)); })\n                .attr(\"x1\", function(d) { return d.source.x; })\n                .attr(\"y1\", function(d) { return d.source.y; });\n\n            link.filter(function(d) { return d.target.selected ||\n                    (auto_hbox && (d.target.t == 3 || d.target.t == 4)); })\n                .attr(\"x2\", function(d) { return d.target.x; })\n                .attr(\"y2\", function(d) { return d.target.y; });\n\n            // text.filter(function(d) { return d.selected; })\n            //     .attr(\"x\", function(d) { return d.x; })\n            //     .attr(\"y\", function(d) { return d.y + 0.7 * node_size + 14; });\n        }));\n\n    brush.call(d3.brush().keyModifiers(false)\n        .extent([[0, 0], [width, height]])\n        .on(\"start\", function() {\n            if (d3.event.sourceEvent.type !== \"end\") {\n                node.selectAll(\".selectable\").attr(\"style\", function(d) {\n                    return nodeStyle(\n                        d.selected = d.previouslySelected = shiftKey &&\n                        d.selected);\n                });\n            }\n        })\n        .on(\"brush\", function() {\n            if (d3.event.sourceEvent.type !== \"end\") {\n                var selection = d3.event.selection;\n                node.selectAll(\".selectable\").attr(\"style\", function(d) {\n                    return nodeStyle(d.selected = d.previouslySelected ^\n                        (selection != null\n                            && selection[0][0] <= d.x && d.x < selection[1][0]\n                            && selection[0][1] <= d.y && d.y < selection[1][1]));\n                });\n            }\n        })\n        .on(\"end\", function() {\n            if (d3.event.selection != null) {\n                d3.select(this).call(d3.event.target.move, null);\n            }\n        }));\n}\n\n\nshowGraph('#graph-output-FdpBvG6j',\n  JSON.parse('{\"nodes\": [{\"name\": \"0\", \"x\": 50, \"y\": 100, \"t\": 0, \"phase\": \"\"}, {\"name\": \"1\", \"x\": 50, \"y\": 150, \"t\": 0, \"phase\": \"\"}, {\"name\": \"2\", \"x\": 100, \"y\": 100, \"t\": 1, \"phase\": \"1,0\"}, {\"name\": \"3\", \"x\": 100, \"y\": 150, \"t\": 1, \"phase\": \"\"}, {\"name\": \"4\", \"x\": 150, \"y\": 100, \"t\": 2, \"phase\": \"\"}, {\"name\": \"5\", \"x\": 150, \"y\": 150, \"t\": 1, \"phase\": \"1,0\"}, {\"name\": \"6\", \"x\": 200, \"y\": 150, \"t\": 1, \"phase\": \"\"}, {\"name\": \"7\", \"x\": 200, \"y\": 100, \"t\": 1, \"phase\": \"\"}, {\"name\": \"8\", \"x\": 250, \"y\": 100, \"t\": 1, \"phase\": \"1,0\"}, {\"name\": \"9\", \"x\": 300, \"y\": 100, \"t\": 1, \"phase\": \"1,0\"}, {\"name\": \"10\", \"x\": 250, \"y\": 150, \"t\": 2, \"phase\": \"\"}, {\"name\": \"11\", \"x\": 350, \"y\": 100, \"t\": 2, \"phase\": \"\"}, {\"name\": \"12\", \"x\": 400, \"y\": 100, \"t\": 0, \"phase\": \"\"}, {\"name\": \"13\", \"x\": 400, \"y\": 150, \"t\": 0, \"phase\": \"\"}, {\"name\": \"1, 3\", \"x\": 75.0, \"y\": 150.0, \"t\": 3, \"phase\": \"\"}, {\"name\": \"6, 7\", \"x\": 200.0, \"y\": 125.0, \"t\": 3, \"phase\": \"\"}], \"links\": [{\"source\": \"0\", \"target\": \"2\", \"t\": 1}, {\"source\": \"1\", \"target\": \"1, 3\", \"t\": 1}, {\"source\": \"1, 3\", \"target\": \"3\", \"t\": 1}, {\"source\": \"2\", \"target\": \"4\", \"t\": 1}, {\"source\": \"3\", \"target\": \"5\", \"t\": 1}, {\"source\": \"4\", \"target\": \"7\", \"t\": 1}, {\"source\": \"5\", \"target\": \"6\", \"t\": 1}, {\"source\": \"6\", \"target\": \"6, 7\", \"t\": 1}, {\"source\": \"6, 7\", \"target\": \"7\", \"t\": 1}, {\"source\": \"6\", \"target\": \"10\", \"t\": 1}, {\"source\": \"7\", \"target\": \"8\", \"t\": 1}, {\"source\": \"8\", \"target\": \"9\", \"t\": 1}, {\"source\": \"9\", \"target\": \"11\", \"t\": 1}, {\"source\": \"10\", \"target\": \"13\", \"t\": 1}, {\"source\": \"11\", \"target\": \"12\", \"t\": 1}]}'), 450, 200, 50,\n  10.0, false);\n</script>"
     },
     "metadata": {},
     "output_type": "display_data"
    }
   ],
   "source": [
    "zcircuit = dizx.Circuit(2)\n",
    "zcircuit.add_gate(\"Z\", 0)\n",
    "zcircuit.add_gate(\"H\", 1)\n",
    "zcircuit.add_gate(\"NEG\", 0)\n",
    "zcircuit.add_gate(\"Z\", 1)\n",
    "zcircuit.add_gate(\"CZ\", 0, 1)\n",
    "zcircuit.add_gate(\"Z\", 0)\n",
    "zcircuit.add_gate(\"Z\", 0)\n",
    "zcircuit.add_gate(\"NEG\", 1)\n",
    "zcircuit.add_gate(\"NEG\", 0)\n",
    "g = zcircuit.to_graph(zh=True)\n",
    "dizx.draw(g)"
   ],
   "metadata": {
    "collapsed": false,
    "ExecuteTime": {
     "end_time": "2023-07-12T19:18:00.275137Z",
     "start_time": "2023-07-12T19:18:00.243796Z"
    }
   }
  },
  {
   "cell_type": "code",
   "execution_count": 30,
   "outputs": [
    {
     "data": {
      "text/plain": "<IPython.core.display.HTML object>",
      "text/html": "<div style=\"overflow:auto\" id=\"graph-output-zMsrLUuD\"></div>\n<script type=\"module\">\nvar d3;\nif (d3 == null) { d3 = await import(\"https://cdn.skypack.dev/d3@5\"); }\n// PyZX - Python library for quantum circuit rewriting \n//        and optimisation using the ZX-calculus\n// Copyright (C) 2023 - Boldiszar Poor, Lia Yeh and John van de Wetering\n\n// Licensed under the Apache License, Version 2.0 (the \"License\");\n// you may not use this file except in compliance with the License.\n// You may obtain a copy of the License at\n\n//    http://www.apache.org/licenses/LICENSE-2.0\n\n// Unless required by applicable law or agreed to in writing, software\n// distributed under the License is distributed on an \"AS IS\" BASIS,\n// WITHOUT WARRANTIES OR CONDITIONS OF ANY KIND, either express or implied.\n// See the License for the specific language governing permissions and\n// limitations under the License.\n\n// styling functions\nfunction nodeColor(t) {\n    if (t == 0) return \"black\";\n    else if (t == 1) return \"#ccffcc\";\n    else if (t == 2) return \"#ff8888\";\n    else if (t == 3) return \"yellow\";\n    else if (t == 4) return \"#555555\";\n}\n\nfunction edgeColor(t) {\n    if (t == 1) return \"black\";\n    else if (t == 2) return \"#08f\";\n}\n\nfunction nodeStyle(selected) {\n    return selected ? \"stroke-width: 2px; stroke: #00f\" : \"stroke-width: 1.5px\";\n}\n\n\nfunction showGraph(tag, graph, width, height, scale, node_size, show_labels) {\n    var ntab = {};\n\n    var auto_hbox = true;\n\n    graph.nodes.forEach(function(d) {\n        ntab[d.name] = d;\n        d.selected = false;\n        d.previouslySelected = false;\n        d.nhd = [];\n    });\n\n    var spiders_and_boundaries = graph.nodes.filter(function(d) {\n        return d.t != 3 && d.t != 4;\n    });\n\n    graph.links.forEach(function(d) {\n        var s = ntab[d.source];\n        var t = ntab[d.target];\n        d.source = s;\n        d.target = t;\n        s.nhd.push(t);\n        t.nhd.push(s);\n    });\n\n    var shiftKey;\n\n    // SETUP SVG ITEMS\n\n    var svg = d3.select(tag)\n    //.attr(\"tabindex\", 1)\n        .on(\"keydown.brush\", function() {shiftKey = d3.event.shiftKey || d3.event.metaKey;})\n        .on(\"keyup.brush\", function() {shiftKey = d3.event.shiftKey || d3.event.metaKey;})\n    //.each(function() { this.focus(); })\n        .append(\"svg\")\n        .attr(\"style\", \"max-width: none; max-height: none\")\n        .attr(\"width\", width)\n        .attr(\"height\", height);\n\n    var link = svg.append(\"g\")\n        .attr(\"class\", \"link\")\n        .selectAll(\"line\")\n        .data(graph.links)\n        .enter().append(\"line\")\n        .attr(\"stroke\", function(d) { return edgeColor(d.t); })\n        .attr(\"style\", \"stroke-width: 1.5px\");\n\n    var brush = svg.append(\"g\")\n        .attr(\"class\", \"brush\");\n\n    var node = svg.append(\"g\")\n        .attr(\"class\", \"node\")\n        .selectAll(\"g\")\n        .data(graph.nodes)\n        .enter().append(\"g\")\n        .attr(\"transform\", function(d) {\n            return \"translate(\" + d.x + \",\" + d.y +\")\";\n        });\n\n    node.filter(function(d) { return d.t != 3 && d.t != 4; })\n        .append(\"circle\")\n        .attr(\"r\", function(d) {\n            if (d.t == 0) return 0.5 * node_size;\n            else return node_size;\n        })\n        .attr(\"fill\", function(d) { return nodeColor(d.t); })\n        .attr(\"stroke\", \"black\")\n        .attr(\"class\", \"selectable\");\n\n    var hbox = node.filter(function(d) { return d.t == 3 || d.t == 4; });\n\n    hbox.append(\"rect\")\n        .attr(\"x\", -0.75 * node_size).attr(\"y\", -0.75 * node_size)\n        .attr(\"width\", node_size * 1.5).attr(\"height\", node_size * 1.5)\n        .attr(\"fill\", function(d) { return nodeColor(d.t); })\n        .attr(\"stroke\", \"black\")\n        .attr('style', 'pointer-events: none; user-select: none;');\n        // .attr(\"class\", \"selectable\");\n\n    node.filter(function(d) { return d.phase != '' && d.t > 2; })\n        .append(\"text\")\n        .attr(\"y\", -0.1 * node_size + 4)\n        .text(function (d) { return d.phase })\n        .attr(\"text-anchor\", \"middle\")\n        .attr(\"font-size\", \"11px\")\n        .attr(\"font-family\", \"monospace\")\n        .attr(\"fill\", \"#000\")\n        .attr('style', 'pointer-events: none; user-select: none;');\n\n    node.filter(function(d) { return d.phase != '' && d.t < 3; })\n        .append(\"text\")\n        .attr(\"y\", -1.3 * node_size)\n        .text(function (d) { return d.phase })\n        .attr(\"text-anchor\", \"middle\")\n        .attr(\"font-size\", \"11px\")\n        .attr(\"font-family\", \"monospace\")\n        .attr(\"fill\", \"#00d\")\n        .attr('style', 'pointer-events: none; user-select: none;');\n\n    if (show_labels) {\n        node.append(\"text\")\n            .attr(\"y\", -0.7 * node_size - 8)\n            .text(function (d) { return d.name; })\n            .attr(\"text-anchor\", \"middle\")\n            .attr(\"font-size\", \"10px\")\n            .attr(\"font-family\", \"monospace\")\n            .attr(\"fill\", \"#999\")\n            .attr('style', 'pointer-events: none; user-select: none;');\n    }\n\n    function update_hboxes() {\n        if (auto_hbox) {\n            // var pos = {};\n            hbox.attr(\"transform\", function(d) {\n                // calculate barycenter of non-hbox neighbours, then nudge a bit\n                // to the NE.\n                var x=0,y=0,sz=0;\n                for (var i = 0; i < d.nhd.length; ++i) {\n                    if (d.nhd[i].t != 3 && d.nhd[i].t != 4) {\n                        sz++;\n                        x += d.nhd[i].x;\n                        y += d.nhd[i].y;\n                    }\n                }\n\n                // var offset = 0.25 * scale;\n                var offset = 0;\n\n                if (sz != 0) {\n                    x = (x/sz) + offset;\n                    y = (y/sz) - offset;\n\n                    // while (pos[[x,y]]) {\n                    //     x += offset;\n                    // }\n                    d.x = x;\n                    d.y = y;\n                    // pos[[x,y]] = true;\n                }\n\n                return \"translate(\"+d.x+\",\"+d.y+\")\";\n            });\n        }\n    }\n\n    update_hboxes();\n\n    link.attr(\"x1\", function(d) { return d.source.x; })\n        .attr(\"y1\", function(d) { return d.source.y; })\n        .attr(\"x2\", function(d) { return d.target.x; })\n        .attr(\"y2\", function(d) { return d.target.y; });\n\n    // EVENTS FOR DRAGGING AND SELECTION\n\n    node.on(\"mousedown\", function(d) {\n        if (shiftKey) {\n            d3.select(this).selectAll(\".selectable\").attr(\"style\", nodeStyle(d.selected = !d.selected));\n            d3.event.stopImmediatePropagation();\n        } else if (!d.selected) {\n            node.selectAll(\".selectable\").attr(\"style\", function(p) { return nodeStyle(p.selected = d === p); });\n        }\n    })\n        .call(d3.drag().on(\"drag\", function(d) {\n            var dx = d3.event.dx;\n            var dy = d3.event.dy;\n            // node.filter(function(d) { return d.selected; })\n            //     .attr(\"cx\", function(d) { return d.x += dx; })\n            //     .attr(\"cy\", function(d) { return d.y += dy; });\n            node.filter(function(d) { return d.selected; })\n                .attr(\"transform\", function(d) {\n                    d.x += dx;\n                    d.y += dy;\n                    return \"translate(\" + d.x + \",\" + d.y +\")\";\n                });\n\n            update_hboxes();\n\n            link.filter(function(d) { return d.source.selected ||\n                    (auto_hbox && (d.source.t == 3 || d.source.t == 4)); })\n                .attr(\"x1\", function(d) { return d.source.x; })\n                .attr(\"y1\", function(d) { return d.source.y; });\n\n            link.filter(function(d) { return d.target.selected ||\n                    (auto_hbox && (d.target.t == 3 || d.target.t == 4)); })\n                .attr(\"x2\", function(d) { return d.target.x; })\n                .attr(\"y2\", function(d) { return d.target.y; });\n\n            // text.filter(function(d) { return d.selected; })\n            //     .attr(\"x\", function(d) { return d.x; })\n            //     .attr(\"y\", function(d) { return d.y + 0.7 * node_size + 14; });\n        }));\n\n    brush.call(d3.brush().keyModifiers(false)\n        .extent([[0, 0], [width, height]])\n        .on(\"start\", function() {\n            if (d3.event.sourceEvent.type !== \"end\") {\n                node.selectAll(\".selectable\").attr(\"style\", function(d) {\n                    return nodeStyle(\n                        d.selected = d.previouslySelected = shiftKey &&\n                        d.selected);\n                });\n            }\n        })\n        .on(\"brush\", function() {\n            if (d3.event.sourceEvent.type !== \"end\") {\n                var selection = d3.event.selection;\n                node.selectAll(\".selectable\").attr(\"style\", function(d) {\n                    return nodeStyle(d.selected = d.previouslySelected ^\n                        (selection != null\n                            && selection[0][0] <= d.x && d.x < selection[1][0]\n                            && selection[0][1] <= d.y && d.y < selection[1][1]));\n                });\n            }\n        })\n        .on(\"end\", function() {\n            if (d3.event.selection != null) {\n                d3.select(this).call(d3.event.target.move, null);\n            }\n        }));\n}\n\n\nshowGraph('#graph-output-zMsrLUuD',\n  JSON.parse('{\"nodes\": [{\"name\": \"0\", \"x\": 50, \"y\": 100, \"t\": 0, \"phase\": \"\"}, {\"name\": \"1\", \"x\": 50, \"y\": 150, \"t\": 0, \"phase\": \"\"}, {\"name\": \"2\", \"x\": 100, \"y\": 100, \"t\": 1, \"phase\": \"1,0\"}, {\"name\": \"4\", \"x\": 150, \"y\": 100, \"t\": 1, \"phase\": \"\"}, {\"name\": \"6\", \"x\": 200, \"y\": 150, \"t\": 1, \"phase\": \"1,0\"}, {\"name\": \"9\", \"x\": 300, \"y\": 100, \"t\": 1, \"phase\": \"2,0\"}, {\"name\": \"10\", \"x\": 250, \"y\": 150, \"t\": 1, \"phase\": \"\"}, {\"name\": \"11\", \"x\": 350, \"y\": 100, \"t\": 1, \"phase\": \"\"}, {\"name\": \"12\", \"x\": 450.0, \"y\": 100, \"t\": 0, \"phase\": \"\"}, {\"name\": \"13\", \"x\": 450.0, \"y\": 150, \"t\": 0, \"phase\": \"\"}, {\"name\": \"14\", \"x\": 100.0, \"y\": 150.0, \"t\": 1, \"phase\": \"\"}, {\"name\": \"15\", \"x\": 400.0, \"y\": 100, \"t\": 1, \"phase\": \"\"}, {\"name\": \"16\", \"x\": 350.0, \"y\": 150.0, \"t\": 1, \"phase\": \"\"}, {\"name\": \"2, 4\", \"x\": 125.0, \"y\": 100.0, \"t\": 3, \"phase\": \"\"}, {\"name\": \"4, 9\", \"x\": 225.0, \"y\": 100.0, \"t\": 3, \"phase\": \"\"}, {\"name\": \"6, 10\", \"x\": 225.0, \"y\": 150.0, \"t\": 3, \"phase\": \"\"}, {\"name\": \"6, 9\", \"x\": 250.0, \"y\": 125.0, \"t\": 3, \"phase\": \"\"}, {\"name\": \"6, 14\", \"x\": 150.0, \"y\": 150.0, \"t\": 3, \"phase\": \"\"}, {\"name\": \"9, 11\", \"x\": 325.0, \"y\": 100.0, \"t\": 3, \"phase\": \"\"}, {\"name\": \"10, 16\", \"x\": 300.0, \"y\": 150.0, \"t\": 3, \"phase\": \"\"}, {\"name\": \"11, 15\", \"x\": 375.0, \"y\": 100.0, \"t\": 3, \"phase\": \"\"}], \"links\": [{\"source\": \"0\", \"target\": \"2\", \"t\": 1}, {\"source\": \"1\", \"target\": \"14\", \"t\": 1}, {\"source\": \"2\", \"target\": \"2, 4\", \"t\": 1}, {\"source\": \"2, 4\", \"target\": \"4\", \"t\": 1}, {\"source\": \"4\", \"target\": \"4, 9\", \"t\": 1}, {\"source\": \"4, 9\", \"target\": \"9\", \"t\": 1}, {\"source\": \"6\", \"target\": \"6, 10\", \"t\": 1}, {\"source\": \"6, 10\", \"target\": \"10\", \"t\": 1}, {\"source\": \"6\", \"target\": \"6, 9\", \"t\": 1}, {\"source\": \"6, 9\", \"target\": \"9\", \"t\": 1}, {\"source\": \"6\", \"target\": \"6, 14\", \"t\": 1}, {\"source\": \"6, 14\", \"target\": \"14\", \"t\": 1}, {\"source\": \"9\", \"target\": \"9, 11\", \"t\": 1}, {\"source\": \"9, 11\", \"target\": \"11\", \"t\": 1}, {\"source\": \"10\", \"target\": \"10, 16\", \"t\": 1}, {\"source\": \"10, 16\", \"target\": \"16\", \"t\": 1}, {\"source\": \"11\", \"target\": \"11, 15\", \"t\": 1}, {\"source\": \"11, 15\", \"target\": \"15\", \"t\": 1}, {\"source\": \"12\", \"target\": \"15\", \"t\": 1}, {\"source\": \"13\", \"target\": \"16\", \"t\": 1}]}'), 500.0, 200, 50,\n  10.0, true);\n</script>"
     },
     "metadata": {},
     "output_type": "display_data"
    }
   ],
   "source": [
    "from dizx.simplify import to_graph_like\n",
    "\n",
    "to_graph_like(g)\n",
    "dizx.draw(g, labels=True)"
   ],
   "metadata": {
    "collapsed": false,
    "ExecuteTime": {
     "end_time": "2023-07-12T19:18:00.279887Z",
     "start_time": "2023-07-12T19:18:00.271848Z"
    }
   }
  },
  {
   "cell_type": "code",
   "execution_count": 31,
   "outputs": [
    {
     "data": {
      "text/plain": "<IPython.core.display.HTML object>",
      "text/html": "<div style=\"overflow:auto\" id=\"graph-output-XXZLMATk\"></div>\n<script type=\"module\">\nvar d3;\nif (d3 == null) { d3 = await import(\"https://cdn.skypack.dev/d3@5\"); }\n// PyZX - Python library for quantum circuit rewriting \n//        and optimisation using the ZX-calculus\n// Copyright (C) 2023 - Boldiszar Poor, Lia Yeh and John van de Wetering\n\n// Licensed under the Apache License, Version 2.0 (the \"License\");\n// you may not use this file except in compliance with the License.\n// You may obtain a copy of the License at\n\n//    http://www.apache.org/licenses/LICENSE-2.0\n\n// Unless required by applicable law or agreed to in writing, software\n// distributed under the License is distributed on an \"AS IS\" BASIS,\n// WITHOUT WARRANTIES OR CONDITIONS OF ANY KIND, either express or implied.\n// See the License for the specific language governing permissions and\n// limitations under the License.\n\n// styling functions\nfunction nodeColor(t) {\n    if (t == 0) return \"black\";\n    else if (t == 1) return \"#ccffcc\";\n    else if (t == 2) return \"#ff8888\";\n    else if (t == 3) return \"yellow\";\n    else if (t == 4) return \"#555555\";\n}\n\nfunction edgeColor(t) {\n    if (t == 1) return \"black\";\n    else if (t == 2) return \"#08f\";\n}\n\nfunction nodeStyle(selected) {\n    return selected ? \"stroke-width: 2px; stroke: #00f\" : \"stroke-width: 1.5px\";\n}\n\n\nfunction showGraph(tag, graph, width, height, scale, node_size, show_labels) {\n    var ntab = {};\n\n    var auto_hbox = true;\n\n    graph.nodes.forEach(function(d) {\n        ntab[d.name] = d;\n        d.selected = false;\n        d.previouslySelected = false;\n        d.nhd = [];\n    });\n\n    var spiders_and_boundaries = graph.nodes.filter(function(d) {\n        return d.t != 3 && d.t != 4;\n    });\n\n    graph.links.forEach(function(d) {\n        var s = ntab[d.source];\n        var t = ntab[d.target];\n        d.source = s;\n        d.target = t;\n        s.nhd.push(t);\n        t.nhd.push(s);\n    });\n\n    var shiftKey;\n\n    // SETUP SVG ITEMS\n\n    var svg = d3.select(tag)\n    //.attr(\"tabindex\", 1)\n        .on(\"keydown.brush\", function() {shiftKey = d3.event.shiftKey || d3.event.metaKey;})\n        .on(\"keyup.brush\", function() {shiftKey = d3.event.shiftKey || d3.event.metaKey;})\n    //.each(function() { this.focus(); })\n        .append(\"svg\")\n        .attr(\"style\", \"max-width: none; max-height: none\")\n        .attr(\"width\", width)\n        .attr(\"height\", height);\n\n    var link = svg.append(\"g\")\n        .attr(\"class\", \"link\")\n        .selectAll(\"line\")\n        .data(graph.links)\n        .enter().append(\"line\")\n        .attr(\"stroke\", function(d) { return edgeColor(d.t); })\n        .attr(\"style\", \"stroke-width: 1.5px\");\n\n    var brush = svg.append(\"g\")\n        .attr(\"class\", \"brush\");\n\n    var node = svg.append(\"g\")\n        .attr(\"class\", \"node\")\n        .selectAll(\"g\")\n        .data(graph.nodes)\n        .enter().append(\"g\")\n        .attr(\"transform\", function(d) {\n            return \"translate(\" + d.x + \",\" + d.y +\")\";\n        });\n\n    node.filter(function(d) { return d.t != 3 && d.t != 4; })\n        .append(\"circle\")\n        .attr(\"r\", function(d) {\n            if (d.t == 0) return 0.5 * node_size;\n            else return node_size;\n        })\n        .attr(\"fill\", function(d) { return nodeColor(d.t); })\n        .attr(\"stroke\", \"black\")\n        .attr(\"class\", \"selectable\");\n\n    var hbox = node.filter(function(d) { return d.t == 3 || d.t == 4; });\n\n    hbox.append(\"rect\")\n        .attr(\"x\", -0.75 * node_size).attr(\"y\", -0.75 * node_size)\n        .attr(\"width\", node_size * 1.5).attr(\"height\", node_size * 1.5)\n        .attr(\"fill\", function(d) { return nodeColor(d.t); })\n        .attr(\"stroke\", \"black\")\n        .attr('style', 'pointer-events: none; user-select: none;');\n        // .attr(\"class\", \"selectable\");\n\n    node.filter(function(d) { return d.phase != '' && d.t > 2; })\n        .append(\"text\")\n        .attr(\"y\", -0.1 * node_size + 4)\n        .text(function (d) { return d.phase })\n        .attr(\"text-anchor\", \"middle\")\n        .attr(\"font-size\", \"11px\")\n        .attr(\"font-family\", \"monospace\")\n        .attr(\"fill\", \"#000\")\n        .attr('style', 'pointer-events: none; user-select: none;');\n\n    node.filter(function(d) { return d.phase != '' && d.t < 3; })\n        .append(\"text\")\n        .attr(\"y\", -1.3 * node_size)\n        .text(function (d) { return d.phase })\n        .attr(\"text-anchor\", \"middle\")\n        .attr(\"font-size\", \"11px\")\n        .attr(\"font-family\", \"monospace\")\n        .attr(\"fill\", \"#00d\")\n        .attr('style', 'pointer-events: none; user-select: none;');\n\n    if (show_labels) {\n        node.append(\"text\")\n            .attr(\"y\", -0.7 * node_size - 8)\n            .text(function (d) { return d.name; })\n            .attr(\"text-anchor\", \"middle\")\n            .attr(\"font-size\", \"10px\")\n            .attr(\"font-family\", \"monospace\")\n            .attr(\"fill\", \"#999\")\n            .attr('style', 'pointer-events: none; user-select: none;');\n    }\n\n    function update_hboxes() {\n        if (auto_hbox) {\n            // var pos = {};\n            hbox.attr(\"transform\", function(d) {\n                // calculate barycenter of non-hbox neighbours, then nudge a bit\n                // to the NE.\n                var x=0,y=0,sz=0;\n                for (var i = 0; i < d.nhd.length; ++i) {\n                    if (d.nhd[i].t != 3 && d.nhd[i].t != 4) {\n                        sz++;\n                        x += d.nhd[i].x;\n                        y += d.nhd[i].y;\n                    }\n                }\n\n                // var offset = 0.25 * scale;\n                var offset = 0;\n\n                if (sz != 0) {\n                    x = (x/sz) + offset;\n                    y = (y/sz) - offset;\n\n                    // while (pos[[x,y]]) {\n                    //     x += offset;\n                    // }\n                    d.x = x;\n                    d.y = y;\n                    // pos[[x,y]] = true;\n                }\n\n                return \"translate(\"+d.x+\",\"+d.y+\")\";\n            });\n        }\n    }\n\n    update_hboxes();\n\n    link.attr(\"x1\", function(d) { return d.source.x; })\n        .attr(\"y1\", function(d) { return d.source.y; })\n        .attr(\"x2\", function(d) { return d.target.x; })\n        .attr(\"y2\", function(d) { return d.target.y; });\n\n    // EVENTS FOR DRAGGING AND SELECTION\n\n    node.on(\"mousedown\", function(d) {\n        if (shiftKey) {\n            d3.select(this).selectAll(\".selectable\").attr(\"style\", nodeStyle(d.selected = !d.selected));\n            d3.event.stopImmediatePropagation();\n        } else if (!d.selected) {\n            node.selectAll(\".selectable\").attr(\"style\", function(p) { return nodeStyle(p.selected = d === p); });\n        }\n    })\n        .call(d3.drag().on(\"drag\", function(d) {\n            var dx = d3.event.dx;\n            var dy = d3.event.dy;\n            // node.filter(function(d) { return d.selected; })\n            //     .attr(\"cx\", function(d) { return d.x += dx; })\n            //     .attr(\"cy\", function(d) { return d.y += dy; });\n            node.filter(function(d) { return d.selected; })\n                .attr(\"transform\", function(d) {\n                    d.x += dx;\n                    d.y += dy;\n                    return \"translate(\" + d.x + \",\" + d.y +\")\";\n                });\n\n            update_hboxes();\n\n            link.filter(function(d) { return d.source.selected ||\n                    (auto_hbox && (d.source.t == 3 || d.source.t == 4)); })\n                .attr(\"x1\", function(d) { return d.source.x; })\n                .attr(\"y1\", function(d) { return d.source.y; });\n\n            link.filter(function(d) { return d.target.selected ||\n                    (auto_hbox && (d.target.t == 3 || d.target.t == 4)); })\n                .attr(\"x2\", function(d) { return d.target.x; })\n                .attr(\"y2\", function(d) { return d.target.y; });\n\n            // text.filter(function(d) { return d.selected; })\n            //     .attr(\"x\", function(d) { return d.x; })\n            //     .attr(\"y\", function(d) { return d.y + 0.7 * node_size + 14; });\n        }));\n\n    brush.call(d3.brush().keyModifiers(false)\n        .extent([[0, 0], [width, height]])\n        .on(\"start\", function() {\n            if (d3.event.sourceEvent.type !== \"end\") {\n                node.selectAll(\".selectable\").attr(\"style\", function(d) {\n                    return nodeStyle(\n                        d.selected = d.previouslySelected = shiftKey &&\n                        d.selected);\n                });\n            }\n        })\n        .on(\"brush\", function() {\n            if (d3.event.sourceEvent.type !== \"end\") {\n                var selection = d3.event.selection;\n                node.selectAll(\".selectable\").attr(\"style\", function(d) {\n                    return nodeStyle(d.selected = d.previouslySelected ^\n                        (selection != null\n                            && selection[0][0] <= d.x && d.x < selection[1][0]\n                            && selection[0][1] <= d.y && d.y < selection[1][1]));\n                });\n            }\n        })\n        .on(\"end\", function() {\n            if (d3.event.selection != null) {\n                d3.select(this).call(d3.event.target.move, null);\n            }\n        }));\n}\n\n\nshowGraph('#graph-output-XXZLMATk',\n  JSON.parse('{\"nodes\": [{\"name\": \"0\", \"x\": 50, \"y\": 100, \"t\": 0, \"phase\": \"\"}, {\"name\": \"1\", \"x\": 50, \"y\": 150, \"t\": 0, \"phase\": \"\"}, {\"name\": \"2\", \"x\": 100, \"y\": 100, \"t\": 1, \"phase\": \"1,0\"}, {\"name\": \"4\", \"x\": 150, \"y\": 100, \"t\": 1, \"phase\": \"\"}, {\"name\": \"10\", \"x\": 250, \"y\": 150, \"t\": 1, \"phase\": \"1,0\"}, {\"name\": \"11\", \"x\": 350, \"y\": 100, \"t\": 1, \"phase\": \"\"}, {\"name\": \"12\", \"x\": 450.0, \"y\": 100, \"t\": 0, \"phase\": \"\"}, {\"name\": \"13\", \"x\": 450.0, \"y\": 150, \"t\": 0, \"phase\": \"\"}, {\"name\": \"14\", \"x\": 100.0, \"y\": 150.0, \"t\": 1, \"phase\": \"1,0\"}, {\"name\": \"15\", \"x\": 400.0, \"y\": 100, \"t\": 1, \"phase\": \"\"}, {\"name\": \"16\", \"x\": 350.0, \"y\": 150.0, \"t\": 1, \"phase\": \"\"}, {\"name\": \"2, 4\", \"x\": 125.0, \"y\": 100.0, \"t\": 3, \"phase\": \"\"}, {\"name\": \"4, 10\", \"x\": 200.0, \"y\": 125.0, \"t\": 3, \"phase\": \"2\"}, {\"name\": \"4, 14\", \"x\": 125.0, \"y\": 125.0, \"t\": 3, \"phase\": \"2\"}, {\"name\": \"10, 16\", \"x\": 300.0, \"y\": 150.0, \"t\": 3, \"phase\": \"\"}, {\"name\": \"10, 11\", \"x\": 300.0, \"y\": 125.0, \"t\": 3, \"phase\": \"2\"}, {\"name\": \"11, 15\", \"x\": 375.0, \"y\": 100.0, \"t\": 3, \"phase\": \"\"}, {\"name\": \"11, 14\", \"x\": 225.0, \"y\": 125.0, \"t\": 3, \"phase\": \"2\"}], \"links\": [{\"source\": \"0\", \"target\": \"2\", \"t\": 1}, {\"source\": \"1\", \"target\": \"14\", \"t\": 1}, {\"source\": \"2\", \"target\": \"2, 4\", \"t\": 1}, {\"source\": \"2, 4\", \"target\": \"4\", \"t\": 1}, {\"source\": \"4\", \"target\": \"4, 10\", \"t\": 1}, {\"source\": \"4, 10\", \"target\": \"10\", \"t\": 1}, {\"source\": \"4\", \"target\": \"4, 14\", \"t\": 1}, {\"source\": \"4, 14\", \"target\": \"14\", \"t\": 1}, {\"source\": \"10\", \"target\": \"10, 16\", \"t\": 1}, {\"source\": \"10, 16\", \"target\": \"16\", \"t\": 1}, {\"source\": \"10\", \"target\": \"10, 11\", \"t\": 1}, {\"source\": \"10, 11\", \"target\": \"11\", \"t\": 1}, {\"source\": \"11\", \"target\": \"11, 15\", \"t\": 1}, {\"source\": \"11, 15\", \"target\": \"15\", \"t\": 1}, {\"source\": \"11\", \"target\": \"11, 14\", \"t\": 1}, {\"source\": \"11, 14\", \"target\": \"14\", \"t\": 1}, {\"source\": \"12\", \"target\": \"15\", \"t\": 1}, {\"source\": \"13\", \"target\": \"16\", \"t\": 1}]}'), 500.0, 200, 50,\n  10.0, true);\n</script>"
     },
     "metadata": {},
     "output_type": "display_data"
    }
   ],
   "source": [
    "from dizx.rules import pivoting_simplification\n",
    "\n",
    "pivoting_simplification(g, 9, 6)\n",
    "dizx.draw(g, labels=True)"
   ],
   "metadata": {
    "collapsed": false,
    "ExecuteTime": {
     "end_time": "2023-07-12T19:18:00.301487Z",
     "start_time": "2023-07-12T19:18:00.278326Z"
    }
   }
  },
  {
   "cell_type": "code",
   "execution_count": 32,
   "outputs": [
    {
     "data": {
      "text/plain": "<IPython.core.display.HTML object>",
      "text/html": "<div style=\"overflow:auto\" id=\"graph-output-vXX8FBVB\"></div>\n<script type=\"module\">\nvar d3;\nif (d3 == null) { d3 = await import(\"https://cdn.skypack.dev/d3@5\"); }\n// PyZX - Python library for quantum circuit rewriting \n//        and optimisation using the ZX-calculus\n// Copyright (C) 2023 - Boldiszar Poor, Lia Yeh and John van de Wetering\n\n// Licensed under the Apache License, Version 2.0 (the \"License\");\n// you may not use this file except in compliance with the License.\n// You may obtain a copy of the License at\n\n//    http://www.apache.org/licenses/LICENSE-2.0\n\n// Unless required by applicable law or agreed to in writing, software\n// distributed under the License is distributed on an \"AS IS\" BASIS,\n// WITHOUT WARRANTIES OR CONDITIONS OF ANY KIND, either express or implied.\n// See the License for the specific language governing permissions and\n// limitations under the License.\n\n// styling functions\nfunction nodeColor(t) {\n    if (t == 0) return \"black\";\n    else if (t == 1) return \"#ccffcc\";\n    else if (t == 2) return \"#ff8888\";\n    else if (t == 3) return \"yellow\";\n    else if (t == 4) return \"#555555\";\n}\n\nfunction edgeColor(t) {\n    if (t == 1) return \"black\";\n    else if (t == 2) return \"#08f\";\n}\n\nfunction nodeStyle(selected) {\n    return selected ? \"stroke-width: 2px; stroke: #00f\" : \"stroke-width: 1.5px\";\n}\n\n\nfunction showGraph(tag, graph, width, height, scale, node_size, show_labels) {\n    var ntab = {};\n\n    var auto_hbox = true;\n\n    graph.nodes.forEach(function(d) {\n        ntab[d.name] = d;\n        d.selected = false;\n        d.previouslySelected = false;\n        d.nhd = [];\n    });\n\n    var spiders_and_boundaries = graph.nodes.filter(function(d) {\n        return d.t != 3 && d.t != 4;\n    });\n\n    graph.links.forEach(function(d) {\n        var s = ntab[d.source];\n        var t = ntab[d.target];\n        d.source = s;\n        d.target = t;\n        s.nhd.push(t);\n        t.nhd.push(s);\n    });\n\n    var shiftKey;\n\n    // SETUP SVG ITEMS\n\n    var svg = d3.select(tag)\n    //.attr(\"tabindex\", 1)\n        .on(\"keydown.brush\", function() {shiftKey = d3.event.shiftKey || d3.event.metaKey;})\n        .on(\"keyup.brush\", function() {shiftKey = d3.event.shiftKey || d3.event.metaKey;})\n    //.each(function() { this.focus(); })\n        .append(\"svg\")\n        .attr(\"style\", \"max-width: none; max-height: none\")\n        .attr(\"width\", width)\n        .attr(\"height\", height);\n\n    var link = svg.append(\"g\")\n        .attr(\"class\", \"link\")\n        .selectAll(\"line\")\n        .data(graph.links)\n        .enter().append(\"line\")\n        .attr(\"stroke\", function(d) { return edgeColor(d.t); })\n        .attr(\"style\", \"stroke-width: 1.5px\");\n\n    var brush = svg.append(\"g\")\n        .attr(\"class\", \"brush\");\n\n    var node = svg.append(\"g\")\n        .attr(\"class\", \"node\")\n        .selectAll(\"g\")\n        .data(graph.nodes)\n        .enter().append(\"g\")\n        .attr(\"transform\", function(d) {\n            return \"translate(\" + d.x + \",\" + d.y +\")\";\n        });\n\n    node.filter(function(d) { return d.t != 3 && d.t != 4; })\n        .append(\"circle\")\n        .attr(\"r\", function(d) {\n            if (d.t == 0) return 0.5 * node_size;\n            else return node_size;\n        })\n        .attr(\"fill\", function(d) { return nodeColor(d.t); })\n        .attr(\"stroke\", \"black\")\n        .attr(\"class\", \"selectable\");\n\n    var hbox = node.filter(function(d) { return d.t == 3 || d.t == 4; });\n\n    hbox.append(\"rect\")\n        .attr(\"x\", -0.75 * node_size).attr(\"y\", -0.75 * node_size)\n        .attr(\"width\", node_size * 1.5).attr(\"height\", node_size * 1.5)\n        .attr(\"fill\", function(d) { return nodeColor(d.t); })\n        .attr(\"stroke\", \"black\")\n        .attr('style', 'pointer-events: none; user-select: none;');\n        // .attr(\"class\", \"selectable\");\n\n    node.filter(function(d) { return d.phase != '' && d.t > 2; })\n        .append(\"text\")\n        .attr(\"y\", -0.1 * node_size + 4)\n        .text(function (d) { return d.phase })\n        .attr(\"text-anchor\", \"middle\")\n        .attr(\"font-size\", \"11px\")\n        .attr(\"font-family\", \"monospace\")\n        .attr(\"fill\", \"#000\")\n        .attr('style', 'pointer-events: none; user-select: none;');\n\n    node.filter(function(d) { return d.phase != '' && d.t < 3; })\n        .append(\"text\")\n        .attr(\"y\", -1.3 * node_size)\n        .text(function (d) { return d.phase })\n        .attr(\"text-anchor\", \"middle\")\n        .attr(\"font-size\", \"11px\")\n        .attr(\"font-family\", \"monospace\")\n        .attr(\"fill\", \"#00d\")\n        .attr('style', 'pointer-events: none; user-select: none;');\n\n    if (show_labels) {\n        node.append(\"text\")\n            .attr(\"y\", -0.7 * node_size - 8)\n            .text(function (d) { return d.name; })\n            .attr(\"text-anchor\", \"middle\")\n            .attr(\"font-size\", \"10px\")\n            .attr(\"font-family\", \"monospace\")\n            .attr(\"fill\", \"#999\")\n            .attr('style', 'pointer-events: none; user-select: none;');\n    }\n\n    function update_hboxes() {\n        if (auto_hbox) {\n            // var pos = {};\n            hbox.attr(\"transform\", function(d) {\n                // calculate barycenter of non-hbox neighbours, then nudge a bit\n                // to the NE.\n                var x=0,y=0,sz=0;\n                for (var i = 0; i < d.nhd.length; ++i) {\n                    if (d.nhd[i].t != 3 && d.nhd[i].t != 4) {\n                        sz++;\n                        x += d.nhd[i].x;\n                        y += d.nhd[i].y;\n                    }\n                }\n\n                // var offset = 0.25 * scale;\n                var offset = 0;\n\n                if (sz != 0) {\n                    x = (x/sz) + offset;\n                    y = (y/sz) - offset;\n\n                    // while (pos[[x,y]]) {\n                    //     x += offset;\n                    // }\n                    d.x = x;\n                    d.y = y;\n                    // pos[[x,y]] = true;\n                }\n\n                return \"translate(\"+d.x+\",\"+d.y+\")\";\n            });\n        }\n    }\n\n    update_hboxes();\n\n    link.attr(\"x1\", function(d) { return d.source.x; })\n        .attr(\"y1\", function(d) { return d.source.y; })\n        .attr(\"x2\", function(d) { return d.target.x; })\n        .attr(\"y2\", function(d) { return d.target.y; });\n\n    // EVENTS FOR DRAGGING AND SELECTION\n\n    node.on(\"mousedown\", function(d) {\n        if (shiftKey) {\n            d3.select(this).selectAll(\".selectable\").attr(\"style\", nodeStyle(d.selected = !d.selected));\n            d3.event.stopImmediatePropagation();\n        } else if (!d.selected) {\n            node.selectAll(\".selectable\").attr(\"style\", function(p) { return nodeStyle(p.selected = d === p); });\n        }\n    })\n        .call(d3.drag().on(\"drag\", function(d) {\n            var dx = d3.event.dx;\n            var dy = d3.event.dy;\n            // node.filter(function(d) { return d.selected; })\n            //     .attr(\"cx\", function(d) { return d.x += dx; })\n            //     .attr(\"cy\", function(d) { return d.y += dy; });\n            node.filter(function(d) { return d.selected; })\n                .attr(\"transform\", function(d) {\n                    d.x += dx;\n                    d.y += dy;\n                    return \"translate(\" + d.x + \",\" + d.y +\")\";\n                });\n\n            update_hboxes();\n\n            link.filter(function(d) { return d.source.selected ||\n                    (auto_hbox && (d.source.t == 3 || d.source.t == 4)); })\n                .attr(\"x1\", function(d) { return d.source.x; })\n                .attr(\"y1\", function(d) { return d.source.y; });\n\n            link.filter(function(d) { return d.target.selected ||\n                    (auto_hbox && (d.target.t == 3 || d.target.t == 4)); })\n                .attr(\"x2\", function(d) { return d.target.x; })\n                .attr(\"y2\", function(d) { return d.target.y; });\n\n            // text.filter(function(d) { return d.selected; })\n            //     .attr(\"x\", function(d) { return d.x; })\n            //     .attr(\"y\", function(d) { return d.y + 0.7 * node_size + 14; });\n        }));\n\n    brush.call(d3.brush().keyModifiers(false)\n        .extent([[0, 0], [width, height]])\n        .on(\"start\", function() {\n            if (d3.event.sourceEvent.type !== \"end\") {\n                node.selectAll(\".selectable\").attr(\"style\", function(d) {\n                    return nodeStyle(\n                        d.selected = d.previouslySelected = shiftKey &&\n                        d.selected);\n                });\n            }\n        })\n        .on(\"brush\", function() {\n            if (d3.event.sourceEvent.type !== \"end\") {\n                var selection = d3.event.selection;\n                node.selectAll(\".selectable\").attr(\"style\", function(d) {\n                    return nodeStyle(d.selected = d.previouslySelected ^\n                        (selection != null\n                            && selection[0][0] <= d.x && d.x < selection[1][0]\n                            && selection[0][1] <= d.y && d.y < selection[1][1]));\n                });\n            }\n        })\n        .on(\"end\", function() {\n            if (d3.event.selection != null) {\n                d3.select(this).call(d3.event.target.move, null);\n            }\n        }));\n}\n\n\nshowGraph('#graph-output-vXX8FBVB',\n  JSON.parse('{\"nodes\": [{\"name\": \"0\", \"x\": 50, \"y\": 100, \"t\": 0, \"phase\": \"\"}, {\"name\": \"1\", \"x\": 50, \"y\": 175.0, \"t\": 0, \"phase\": \"\"}, {\"name\": \"2\", \"x\": 125.0, \"y\": 100, \"t\": 1, \"phase\": \"1,0\"}, {\"name\": \"11\", \"x\": 200.0, \"y\": 100, \"t\": 1, \"phase\": \"\"}, {\"name\": \"12\", \"x\": 350.0, \"y\": 100, \"t\": 0, \"phase\": \"\"}, {\"name\": \"13\", \"x\": 350.0, \"y\": 175.0, \"t\": 0, \"phase\": \"\"}, {\"name\": \"14\", \"x\": 125.0, \"y\": 175.0, \"t\": 1, \"phase\": \"1,0\"}, {\"name\": \"15\", \"x\": 275.0, \"y\": 100, \"t\": 1, \"phase\": \"\"}, {\"name\": \"16\", \"x\": 200.0, \"y\": 175.0, \"t\": 1, \"phase\": \"\"}, {\"name\": \"2, 11\", \"x\": 162.5, \"y\": 100.0, \"t\": 3, \"phase\": \"2\"}, {\"name\": \"2, 16\", \"x\": 162.5, \"y\": 137.5, \"t\": 3, \"phase\": \"\"}, {\"name\": \"11, 15\", \"x\": 237.5, \"y\": 100.0, \"t\": 3, \"phase\": \"\"}, {\"name\": \"14, 16\", \"x\": 162.5, \"y\": 175.0, \"t\": 3, \"phase\": \"2\"}], \"links\": [{\"source\": \"0\", \"target\": \"2\", \"t\": 1}, {\"source\": \"1\", \"target\": \"14\", \"t\": 1}, {\"source\": \"2\", \"target\": \"2, 11\", \"t\": 1}, {\"source\": \"2, 11\", \"target\": \"11\", \"t\": 1}, {\"source\": \"2\", \"target\": \"2, 16\", \"t\": 1}, {\"source\": \"2, 16\", \"target\": \"16\", \"t\": 1}, {\"source\": \"11\", \"target\": \"11, 15\", \"t\": 1}, {\"source\": \"11, 15\", \"target\": \"15\", \"t\": 1}, {\"source\": \"12\", \"target\": \"15\", \"t\": 1}, {\"source\": \"13\", \"target\": \"16\", \"t\": 1}, {\"source\": \"14\", \"target\": \"14, 16\", \"t\": 1}, {\"source\": \"14, 16\", \"target\": \"16\", \"t\": 1}]}'), 400.0, 225.0, 50,\n  10.0, true);\n</script>"
     },
     "metadata": {},
     "output_type": "display_data"
    }
   ],
   "source": [
    "pivoting_simplification(g, 4, 10)\n",
    "g.ensure_enough_distance(1.5)\n",
    "dizx.draw(g, labels=True)"
   ],
   "metadata": {
    "collapsed": false,
    "ExecuteTime": {
     "end_time": "2023-07-12T19:18:00.313005Z",
     "start_time": "2023-07-12T19:18:00.297973Z"
    }
   }
  },
  {
   "cell_type": "code",
   "execution_count": 33,
   "outputs": [
    {
     "data": {
      "text/plain": "<IPython.core.display.HTML object>",
      "text/html": "<div style=\"overflow:auto\" id=\"graph-output-AucbWDro\"></div>\n<script type=\"module\">\nvar d3;\nif (d3 == null) { d3 = await import(\"https://cdn.skypack.dev/d3@5\"); }\n// PyZX - Python library for quantum circuit rewriting \n//        and optimisation using the ZX-calculus\n// Copyright (C) 2023 - Boldiszar Poor, Lia Yeh and John van de Wetering\n\n// Licensed under the Apache License, Version 2.0 (the \"License\");\n// you may not use this file except in compliance with the License.\n// You may obtain a copy of the License at\n\n//    http://www.apache.org/licenses/LICENSE-2.0\n\n// Unless required by applicable law or agreed to in writing, software\n// distributed under the License is distributed on an \"AS IS\" BASIS,\n// WITHOUT WARRANTIES OR CONDITIONS OF ANY KIND, either express or implied.\n// See the License for the specific language governing permissions and\n// limitations under the License.\n\n// styling functions\nfunction nodeColor(t) {\n    if (t == 0) return \"black\";\n    else if (t == 1) return \"#ccffcc\";\n    else if (t == 2) return \"#ff8888\";\n    else if (t == 3) return \"yellow\";\n    else if (t == 4) return \"#555555\";\n}\n\nfunction edgeColor(t) {\n    if (t == 1) return \"black\";\n    else if (t == 2) return \"#08f\";\n}\n\nfunction nodeStyle(selected) {\n    return selected ? \"stroke-width: 2px; stroke: #00f\" : \"stroke-width: 1.5px\";\n}\n\n\nfunction showGraph(tag, graph, width, height, scale, node_size, show_labels) {\n    var ntab = {};\n\n    var auto_hbox = true;\n\n    graph.nodes.forEach(function(d) {\n        ntab[d.name] = d;\n        d.selected = false;\n        d.previouslySelected = false;\n        d.nhd = [];\n    });\n\n    var spiders_and_boundaries = graph.nodes.filter(function(d) {\n        return d.t != 3 && d.t != 4;\n    });\n\n    graph.links.forEach(function(d) {\n        var s = ntab[d.source];\n        var t = ntab[d.target];\n        d.source = s;\n        d.target = t;\n        s.nhd.push(t);\n        t.nhd.push(s);\n    });\n\n    var shiftKey;\n\n    // SETUP SVG ITEMS\n\n    var svg = d3.select(tag)\n    //.attr(\"tabindex\", 1)\n        .on(\"keydown.brush\", function() {shiftKey = d3.event.shiftKey || d3.event.metaKey;})\n        .on(\"keyup.brush\", function() {shiftKey = d3.event.shiftKey || d3.event.metaKey;})\n    //.each(function() { this.focus(); })\n        .append(\"svg\")\n        .attr(\"style\", \"max-width: none; max-height: none\")\n        .attr(\"width\", width)\n        .attr(\"height\", height);\n\n    var link = svg.append(\"g\")\n        .attr(\"class\", \"link\")\n        .selectAll(\"line\")\n        .data(graph.links)\n        .enter().append(\"line\")\n        .attr(\"stroke\", function(d) { return edgeColor(d.t); })\n        .attr(\"style\", \"stroke-width: 1.5px\");\n\n    var brush = svg.append(\"g\")\n        .attr(\"class\", \"brush\");\n\n    var node = svg.append(\"g\")\n        .attr(\"class\", \"node\")\n        .selectAll(\"g\")\n        .data(graph.nodes)\n        .enter().append(\"g\")\n        .attr(\"transform\", function(d) {\n            return \"translate(\" + d.x + \",\" + d.y +\")\";\n        });\n\n    node.filter(function(d) { return d.t != 3 && d.t != 4; })\n        .append(\"circle\")\n        .attr(\"r\", function(d) {\n            if (d.t == 0) return 0.5 * node_size;\n            else return node_size;\n        })\n        .attr(\"fill\", function(d) { return nodeColor(d.t); })\n        .attr(\"stroke\", \"black\")\n        .attr(\"class\", \"selectable\");\n\n    var hbox = node.filter(function(d) { return d.t == 3 || d.t == 4; });\n\n    hbox.append(\"rect\")\n        .attr(\"x\", -0.75 * node_size).attr(\"y\", -0.75 * node_size)\n        .attr(\"width\", node_size * 1.5).attr(\"height\", node_size * 1.5)\n        .attr(\"fill\", function(d) { return nodeColor(d.t); })\n        .attr(\"stroke\", \"black\")\n        .attr('style', 'pointer-events: none; user-select: none;');\n        // .attr(\"class\", \"selectable\");\n\n    node.filter(function(d) { return d.phase != '' && d.t > 2; })\n        .append(\"text\")\n        .attr(\"y\", -0.1 * node_size + 4)\n        .text(function (d) { return d.phase })\n        .attr(\"text-anchor\", \"middle\")\n        .attr(\"font-size\", \"11px\")\n        .attr(\"font-family\", \"monospace\")\n        .attr(\"fill\", \"#000\")\n        .attr('style', 'pointer-events: none; user-select: none;');\n\n    node.filter(function(d) { return d.phase != '' && d.t < 3; })\n        .append(\"text\")\n        .attr(\"y\", -1.3 * node_size)\n        .text(function (d) { return d.phase })\n        .attr(\"text-anchor\", \"middle\")\n        .attr(\"font-size\", \"11px\")\n        .attr(\"font-family\", \"monospace\")\n        .attr(\"fill\", \"#00d\")\n        .attr('style', 'pointer-events: none; user-select: none;');\n\n    if (show_labels) {\n        node.append(\"text\")\n            .attr(\"y\", -0.7 * node_size - 8)\n            .text(function (d) { return d.name; })\n            .attr(\"text-anchor\", \"middle\")\n            .attr(\"font-size\", \"10px\")\n            .attr(\"font-family\", \"monospace\")\n            .attr(\"fill\", \"#999\")\n            .attr('style', 'pointer-events: none; user-select: none;');\n    }\n\n    function update_hboxes() {\n        if (auto_hbox) {\n            // var pos = {};\n            hbox.attr(\"transform\", function(d) {\n                // calculate barycenter of non-hbox neighbours, then nudge a bit\n                // to the NE.\n                var x=0,y=0,sz=0;\n                for (var i = 0; i < d.nhd.length; ++i) {\n                    if (d.nhd[i].t != 3 && d.nhd[i].t != 4) {\n                        sz++;\n                        x += d.nhd[i].x;\n                        y += d.nhd[i].y;\n                    }\n                }\n\n                // var offset = 0.25 * scale;\n                var offset = 0;\n\n                if (sz != 0) {\n                    x = (x/sz) + offset;\n                    y = (y/sz) - offset;\n\n                    // while (pos[[x,y]]) {\n                    //     x += offset;\n                    // }\n                    d.x = x;\n                    d.y = y;\n                    // pos[[x,y]] = true;\n                }\n\n                return \"translate(\"+d.x+\",\"+d.y+\")\";\n            });\n        }\n    }\n\n    update_hboxes();\n\n    link.attr(\"x1\", function(d) { return d.source.x; })\n        .attr(\"y1\", function(d) { return d.source.y; })\n        .attr(\"x2\", function(d) { return d.target.x; })\n        .attr(\"y2\", function(d) { return d.target.y; });\n\n    // EVENTS FOR DRAGGING AND SELECTION\n\n    node.on(\"mousedown\", function(d) {\n        if (shiftKey) {\n            d3.select(this).selectAll(\".selectable\").attr(\"style\", nodeStyle(d.selected = !d.selected));\n            d3.event.stopImmediatePropagation();\n        } else if (!d.selected) {\n            node.selectAll(\".selectable\").attr(\"style\", function(p) { return nodeStyle(p.selected = d === p); });\n        }\n    })\n        .call(d3.drag().on(\"drag\", function(d) {\n            var dx = d3.event.dx;\n            var dy = d3.event.dy;\n            // node.filter(function(d) { return d.selected; })\n            //     .attr(\"cx\", function(d) { return d.x += dx; })\n            //     .attr(\"cy\", function(d) { return d.y += dy; });\n            node.filter(function(d) { return d.selected; })\n                .attr(\"transform\", function(d) {\n                    d.x += dx;\n                    d.y += dy;\n                    return \"translate(\" + d.x + \",\" + d.y +\")\";\n                });\n\n            update_hboxes();\n\n            link.filter(function(d) { return d.source.selected ||\n                    (auto_hbox && (d.source.t == 3 || d.source.t == 4)); })\n                .attr(\"x1\", function(d) { return d.source.x; })\n                .attr(\"y1\", function(d) { return d.source.y; });\n\n            link.filter(function(d) { return d.target.selected ||\n                    (auto_hbox && (d.target.t == 3 || d.target.t == 4)); })\n                .attr(\"x2\", function(d) { return d.target.x; })\n                .attr(\"y2\", function(d) { return d.target.y; });\n\n            // text.filter(function(d) { return d.selected; })\n            //     .attr(\"x\", function(d) { return d.x; })\n            //     .attr(\"y\", function(d) { return d.y + 0.7 * node_size + 14; });\n        }));\n\n    brush.call(d3.brush().keyModifiers(false)\n        .extent([[0, 0], [width, height]])\n        .on(\"start\", function() {\n            if (d3.event.sourceEvent.type !== \"end\") {\n                node.selectAll(\".selectable\").attr(\"style\", function(d) {\n                    return nodeStyle(\n                        d.selected = d.previouslySelected = shiftKey &&\n                        d.selected);\n                });\n            }\n        })\n        .on(\"brush\", function() {\n            if (d3.event.sourceEvent.type !== \"end\") {\n                var selection = d3.event.selection;\n                node.selectAll(\".selectable\").attr(\"style\", function(d) {\n                    return nodeStyle(d.selected = d.previouslySelected ^\n                        (selection != null\n                            && selection[0][0] <= d.x && d.x < selection[1][0]\n                            && selection[0][1] <= d.y && d.y < selection[1][1]));\n                });\n            }\n        })\n        .on(\"end\", function() {\n            if (d3.event.selection != null) {\n                d3.select(this).call(d3.event.target.move, null);\n            }\n        }));\n}\n\n\nshowGraph('#graph-output-AucbWDro',\n  JSON.parse('{\"nodes\": [{\"name\": \"0\", \"x\": 50, \"y\": 100, \"t\": 0, \"phase\": \"\"}, {\"name\": \"1\", \"x\": 50, \"y\": 150, \"t\": 0, \"phase\": \"\"}, {\"name\": \"2\", \"x\": 100, \"y\": 100, \"t\": 1, \"phase\": \"1,0\"}, {\"name\": \"3\", \"x\": 100, \"y\": 150, \"t\": 1, \"phase\": \"\"}, {\"name\": \"4\", \"x\": 150, \"y\": 100, \"t\": 2, \"phase\": \"\"}, {\"name\": \"5\", \"x\": 150, \"y\": 150, \"t\": 1, \"phase\": \"1,0\"}, {\"name\": \"6\", \"x\": 200, \"y\": 150, \"t\": 1, \"phase\": \"\"}, {\"name\": \"7\", \"x\": 200, \"y\": 100, \"t\": 1, \"phase\": \"\"}, {\"name\": \"8\", \"x\": 250, \"y\": 100, \"t\": 1, \"phase\": \"1,0\"}, {\"name\": \"9\", \"x\": 300, \"y\": 100, \"t\": 1, \"phase\": \"1,0\"}, {\"name\": \"10\", \"x\": 250, \"y\": 150, \"t\": 2, \"phase\": \"\"}, {\"name\": \"11\", \"x\": 350, \"y\": 100, \"t\": 2, \"phase\": \"\"}, {\"name\": \"12\", \"x\": 400, \"y\": 100, \"t\": 0, \"phase\": \"\"}, {\"name\": \"13\", \"x\": 400, \"y\": 150, \"t\": 0, \"phase\": \"\"}, {\"name\": \"1, 3\", \"x\": 75.0, \"y\": 150.0, \"t\": 3, \"phase\": \"\"}, {\"name\": \"6, 7\", \"x\": 200.0, \"y\": 125.0, \"t\": 3, \"phase\": \"\"}], \"links\": [{\"source\": \"0\", \"target\": \"2\", \"t\": 1}, {\"source\": \"1\", \"target\": \"1, 3\", \"t\": 1}, {\"source\": \"1, 3\", \"target\": \"3\", \"t\": 1}, {\"source\": \"2\", \"target\": \"4\", \"t\": 1}, {\"source\": \"3\", \"target\": \"5\", \"t\": 1}, {\"source\": \"4\", \"target\": \"7\", \"t\": 1}, {\"source\": \"5\", \"target\": \"6\", \"t\": 1}, {\"source\": \"6\", \"target\": \"6, 7\", \"t\": 1}, {\"source\": \"6, 7\", \"target\": \"7\", \"t\": 1}, {\"source\": \"6\", \"target\": \"10\", \"t\": 1}, {\"source\": \"7\", \"target\": \"8\", \"t\": 1}, {\"source\": \"8\", \"target\": \"9\", \"t\": 1}, {\"source\": \"9\", \"target\": \"11\", \"t\": 1}, {\"source\": \"10\", \"target\": \"13\", \"t\": 1}, {\"source\": \"11\", \"target\": \"12\", \"t\": 1}]}'), 450, 200, 50,\n  10.0, false);\n</script>"
     },
     "metadata": {},
     "output_type": "display_data"
    }
   ],
   "source": [
    "zcircuit = dizx.Circuit(2)\n",
    "zcircuit.add_gate(\"Z\", 0)\n",
    "zcircuit.add_gate(\"H\", 1)\n",
    "zcircuit.add_gate(\"NEG\", 0)\n",
    "zcircuit.add_gate(\"Z\", 1)\n",
    "zcircuit.add_gate(\"CZ\", 0, 1)\n",
    "zcircuit.add_gate(\"Z\", 0)\n",
    "zcircuit.add_gate(\"Z\", 0)\n",
    "zcircuit.add_gate(\"NEG\", 1)\n",
    "zcircuit.add_gate(\"NEG\", 0)\n",
    "g = zcircuit.to_graph(zh=True)\n",
    "dizx.draw(g)"
   ],
   "metadata": {
    "collapsed": false,
    "ExecuteTime": {
     "end_time": "2023-07-12T19:18:00.328765Z",
     "start_time": "2023-07-12T19:18:00.314156Z"
    }
   }
  },
  {
   "cell_type": "code",
   "execution_count": 34,
   "outputs": [
    {
     "name": "stdout",
     "output_type": "stream",
     "text": [
      "[0, 1, 2, 4, 6, 9, 10, 11, 12, 13, 14, 15, 16]\n",
      "{0: 0, 1: 0, 2: 1, 4: 1, 6: 1, 9: 1, 10: 1, 11: 1, 12: 0, 13: 0, 14: 1, 15: 1, 16: 1}\n",
      "0 1 False\n",
      "{0: 0, 1: 0, 2: 1, 4: 1, 6: 1, 9: 1, 10: 1, 11: 1, 12: 0, 13: 0, 14: 1, 15: 1, 16: 1}\n",
      "0 2 False\n",
      "{0: 0, 1: 0, 2: 1, 4: 1, 6: 1, 9: 1, 10: 1, 11: 1, 12: 0, 13: 0, 14: 1, 15: 1, 16: 1}\n",
      "0 4 False\n",
      "{0: 0, 1: 0, 2: 1, 4: 1, 6: 1, 9: 1, 10: 1, 11: 1, 12: 0, 13: 0, 14: 1, 15: 1, 16: 1}\n",
      "0 6 False\n",
      "{0: 0, 1: 0, 2: 1, 4: 1, 6: 1, 9: 1, 10: 1, 11: 1, 12: 0, 13: 0, 14: 1, 15: 1, 16: 1}\n",
      "0 9 False\n",
      "{0: 0, 1: 0, 2: 1, 4: 1, 6: 1, 9: 1, 10: 1, 11: 1, 12: 0, 13: 0, 14: 1, 15: 1, 16: 1}\n",
      "0 10 False\n",
      "{0: 0, 1: 0, 2: 1, 4: 1, 6: 1, 9: 1, 10: 1, 11: 1, 12: 0, 13: 0, 14: 1, 15: 1, 16: 1}\n",
      "0 11 False\n",
      "{0: 0, 1: 0, 2: 1, 4: 1, 6: 1, 9: 1, 10: 1, 11: 1, 12: 0, 13: 0, 14: 1, 15: 1, 16: 1}\n",
      "0 12 False\n",
      "{0: 0, 1: 0, 2: 1, 4: 1, 6: 1, 9: 1, 10: 1, 11: 1, 12: 0, 13: 0, 14: 1, 15: 1, 16: 1}\n",
      "0 13 False\n",
      "{0: 0, 1: 0, 2: 1, 4: 1, 6: 1, 9: 1, 10: 1, 11: 1, 12: 0, 13: 0, 14: 1, 15: 1, 16: 1}\n",
      "0 14 False\n",
      "{0: 0, 1: 0, 2: 1, 4: 1, 6: 1, 9: 1, 10: 1, 11: 1, 12: 0, 13: 0, 14: 1, 15: 1, 16: 1}\n",
      "0 15 False\n",
      "{0: 0, 1: 0, 2: 1, 4: 1, 6: 1, 9: 1, 10: 1, 11: 1, 12: 0, 13: 0, 14: 1, 15: 1, 16: 1}\n",
      "0 16 False\n",
      "{0: 0, 1: 0, 2: 1, 4: 1, 6: 1, 9: 1, 10: 1, 11: 1, 12: 0, 13: 0, 14: 1, 15: 1, 16: 1}\n",
      "1 2 False\n",
      "{0: 0, 1: 0, 2: 1, 4: 1, 6: 1, 9: 1, 10: 1, 11: 1, 12: 0, 13: 0, 14: 1, 15: 1, 16: 1}\n",
      "1 4 False\n",
      "{0: 0, 1: 0, 2: 1, 4: 1, 6: 1, 9: 1, 10: 1, 11: 1, 12: 0, 13: 0, 14: 1, 15: 1, 16: 1}\n",
      "1 6 False\n",
      "{0: 0, 1: 0, 2: 1, 4: 1, 6: 1, 9: 1, 10: 1, 11: 1, 12: 0, 13: 0, 14: 1, 15: 1, 16: 1}\n",
      "1 9 False\n",
      "{0: 0, 1: 0, 2: 1, 4: 1, 6: 1, 9: 1, 10: 1, 11: 1, 12: 0, 13: 0, 14: 1, 15: 1, 16: 1}\n",
      "1 10 False\n",
      "{0: 0, 1: 0, 2: 1, 4: 1, 6: 1, 9: 1, 10: 1, 11: 1, 12: 0, 13: 0, 14: 1, 15: 1, 16: 1}\n",
      "1 11 False\n",
      "{0: 0, 1: 0, 2: 1, 4: 1, 6: 1, 9: 1, 10: 1, 11: 1, 12: 0, 13: 0, 14: 1, 15: 1, 16: 1}\n",
      "1 12 False\n",
      "{0: 0, 1: 0, 2: 1, 4: 1, 6: 1, 9: 1, 10: 1, 11: 1, 12: 0, 13: 0, 14: 1, 15: 1, 16: 1}\n",
      "1 13 False\n",
      "{0: 0, 1: 0, 2: 1, 4: 1, 6: 1, 9: 1, 10: 1, 11: 1, 12: 0, 13: 0, 14: 1, 15: 1, 16: 1}\n",
      "1 14 False\n",
      "{0: 0, 1: 0, 2: 1, 4: 1, 6: 1, 9: 1, 10: 1, 11: 1, 12: 0, 13: 0, 14: 1, 15: 1, 16: 1}\n",
      "1 15 False\n",
      "{0: 0, 1: 0, 2: 1, 4: 1, 6: 1, 9: 1, 10: 1, 11: 1, 12: 0, 13: 0, 14: 1, 15: 1, 16: 1}\n",
      "1 16 False\n",
      "{0: 0, 1: 0, 2: 1, 4: 1, 6: 1, 9: 1, 10: 1, 11: 1, 12: 0, 13: 0, 14: 1, 15: 1, 16: 1}\n",
      "2 4 False\n",
      "{0: 0, 1: 0, 2: 1, 4: 1, 6: 1, 9: 1, 10: 1, 11: 1, 12: 0, 13: 0, 14: 1, 15: 1, 16: 1}\n",
      "2 6 False\n",
      "{0: 0, 1: 0, 2: 1, 4: 1, 6: 1, 9: 1, 10: 1, 11: 1, 12: 0, 13: 0, 14: 1, 15: 1, 16: 1}\n",
      "2 9 False\n",
      "{0: 0, 1: 0, 2: 1, 4: 1, 6: 1, 9: 1, 10: 1, 11: 1, 12: 0, 13: 0, 14: 1, 15: 1, 16: 1}\n",
      "2 10 False\n",
      "{0: 0, 1: 0, 2: 1, 4: 1, 6: 1, 9: 1, 10: 1, 11: 1, 12: 0, 13: 0, 14: 1, 15: 1, 16: 1}\n",
      "2 11 False\n",
      "{0: 0, 1: 0, 2: 1, 4: 1, 6: 1, 9: 1, 10: 1, 11: 1, 12: 0, 13: 0, 14: 1, 15: 1, 16: 1}\n",
      "2 12 False\n",
      "{0: 0, 1: 0, 2: 1, 4: 1, 6: 1, 9: 1, 10: 1, 11: 1, 12: 0, 13: 0, 14: 1, 15: 1, 16: 1}\n",
      "2 13 False\n",
      "{0: 0, 1: 0, 2: 1, 4: 1, 6: 1, 9: 1, 10: 1, 11: 1, 12: 0, 13: 0, 14: 1, 15: 1, 16: 1}\n",
      "2 14 False\n",
      "{0: 0, 1: 0, 2: 1, 4: 1, 6: 1, 9: 1, 10: 1, 11: 1, 12: 0, 13: 0, 14: 1, 15: 1, 16: 1}\n",
      "2 15 False\n",
      "{0: 0, 1: 0, 2: 1, 4: 1, 6: 1, 9: 1, 10: 1, 11: 1, 12: 0, 13: 0, 14: 1, 15: 1, 16: 1}\n",
      "2 16 False\n",
      "{0: 0, 1: 0, 2: 1, 4: 1, 6: 1, 9: 1, 10: 1, 11: 1, 12: 0, 13: 0, 14: 1, 15: 1, 16: 1}\n",
      "4 6 False\n",
      "{0: 0, 1: 0, 2: 1, 4: 1, 6: 1, 9: 1, 10: 1, 11: 1, 12: 0, 13: 0, 14: 1, 15: 1, 16: 1}\n",
      "alma\n",
      "[0, 1, 2, 6, 10, 11, 12, 13, 14, 15, 16]\n",
      "{0: 0, 1: 0, 2: 1, 6: 1, 10: 1, 11: 1, 12: 0, 13: 0, 14: 1, 15: 1, 16: 1}\n",
      "0 1 False\n",
      "{0: 0, 1: 0, 2: 1, 6: 1, 10: 1, 11: 1, 12: 0, 13: 0, 14: 1, 15: 1, 16: 1}\n",
      "0 2 False\n",
      "{0: 0, 1: 0, 2: 1, 6: 1, 10: 1, 11: 1, 12: 0, 13: 0, 14: 1, 15: 1, 16: 1}\n",
      "0 6 False\n",
      "{0: 0, 1: 0, 2: 1, 6: 1, 10: 1, 11: 1, 12: 0, 13: 0, 14: 1, 15: 1, 16: 1}\n",
      "0 10 False\n",
      "{0: 0, 1: 0, 2: 1, 6: 1, 10: 1, 11: 1, 12: 0, 13: 0, 14: 1, 15: 1, 16: 1}\n",
      "0 11 False\n",
      "{0: 0, 1: 0, 2: 1, 6: 1, 10: 1, 11: 1, 12: 0, 13: 0, 14: 1, 15: 1, 16: 1}\n",
      "0 12 False\n",
      "{0: 0, 1: 0, 2: 1, 6: 1, 10: 1, 11: 1, 12: 0, 13: 0, 14: 1, 15: 1, 16: 1}\n",
      "0 13 False\n",
      "{0: 0, 1: 0, 2: 1, 6: 1, 10: 1, 11: 1, 12: 0, 13: 0, 14: 1, 15: 1, 16: 1}\n",
      "0 14 False\n",
      "{0: 0, 1: 0, 2: 1, 6: 1, 10: 1, 11: 1, 12: 0, 13: 0, 14: 1, 15: 1, 16: 1}\n",
      "0 15 False\n",
      "{0: 0, 1: 0, 2: 1, 6: 1, 10: 1, 11: 1, 12: 0, 13: 0, 14: 1, 15: 1, 16: 1}\n",
      "0 16 False\n",
      "{0: 0, 1: 0, 2: 1, 6: 1, 10: 1, 11: 1, 12: 0, 13: 0, 14: 1, 15: 1, 16: 1}\n",
      "1 2 False\n",
      "{0: 0, 1: 0, 2: 1, 6: 1, 10: 1, 11: 1, 12: 0, 13: 0, 14: 1, 15: 1, 16: 1}\n",
      "1 6 False\n",
      "{0: 0, 1: 0, 2: 1, 6: 1, 10: 1, 11: 1, 12: 0, 13: 0, 14: 1, 15: 1, 16: 1}\n",
      "1 10 False\n",
      "{0: 0, 1: 0, 2: 1, 6: 1, 10: 1, 11: 1, 12: 0, 13: 0, 14: 1, 15: 1, 16: 1}\n",
      "1 11 False\n",
      "{0: 0, 1: 0, 2: 1, 6: 1, 10: 1, 11: 1, 12: 0, 13: 0, 14: 1, 15: 1, 16: 1}\n",
      "1 12 False\n",
      "{0: 0, 1: 0, 2: 1, 6: 1, 10: 1, 11: 1, 12: 0, 13: 0, 14: 1, 15: 1, 16: 1}\n",
      "1 13 False\n",
      "{0: 0, 1: 0, 2: 1, 6: 1, 10: 1, 11: 1, 12: 0, 13: 0, 14: 1, 15: 1, 16: 1}\n",
      "1 14 False\n",
      "{0: 0, 1: 0, 2: 1, 6: 1, 10: 1, 11: 1, 12: 0, 13: 0, 14: 1, 15: 1, 16: 1}\n",
      "1 15 False\n",
      "{0: 0, 1: 0, 2: 1, 6: 1, 10: 1, 11: 1, 12: 0, 13: 0, 14: 1, 15: 1, 16: 1}\n",
      "1 16 False\n",
      "{0: 0, 1: 0, 2: 1, 6: 1, 10: 1, 11: 1, 12: 0, 13: 0, 14: 1, 15: 1, 16: 1}\n",
      "2 6 False\n",
      "{0: 0, 1: 0, 2: 1, 6: 1, 10: 1, 11: 1, 12: 0, 13: 0, 14: 1, 15: 1, 16: 1}\n",
      "2 10 False\n",
      "{0: 0, 1: 0, 2: 1, 6: 1, 10: 1, 11: 1, 12: 0, 13: 0, 14: 1, 15: 1, 16: 1}\n",
      "2 11 False\n",
      "{0: 0, 1: 0, 2: 1, 6: 1, 10: 1, 11: 1, 12: 0, 13: 0, 14: 1, 15: 1, 16: 1}\n",
      "2 12 False\n",
      "{0: 0, 1: 0, 2: 1, 6: 1, 10: 1, 11: 1, 12: 0, 13: 0, 14: 1, 15: 1, 16: 1}\n",
      "2 13 False\n",
      "{0: 0, 1: 0, 2: 1, 6: 1, 10: 1, 11: 1, 12: 0, 13: 0, 14: 1, 15: 1, 16: 1}\n",
      "2 14 False\n",
      "{0: 0, 1: 0, 2: 1, 6: 1, 10: 1, 11: 1, 12: 0, 13: 0, 14: 1, 15: 1, 16: 1}\n",
      "2 15 False\n",
      "{0: 0, 1: 0, 2: 1, 6: 1, 10: 1, 11: 1, 12: 0, 13: 0, 14: 1, 15: 1, 16: 1}\n",
      "2 16 False\n",
      "{0: 0, 1: 0, 2: 1, 6: 1, 10: 1, 11: 1, 12: 0, 13: 0, 14: 1, 15: 1, 16: 1}\n",
      "alma\n",
      "[0, 1, 2, 11, 12, 13, 14, 15, 16]\n",
      "{0: 0, 1: 0, 2: 1, 11: 1, 12: 0, 13: 0, 14: 1, 15: 1, 16: 1}\n",
      "0 1 False\n",
      "{0: 0, 1: 0, 2: 1, 11: 1, 12: 0, 13: 0, 14: 1, 15: 1, 16: 1}\n",
      "0 2 False\n",
      "{0: 0, 1: 0, 2: 1, 11: 1, 12: 0, 13: 0, 14: 1, 15: 1, 16: 1}\n",
      "0 11 False\n",
      "{0: 0, 1: 0, 2: 1, 11: 1, 12: 0, 13: 0, 14: 1, 15: 1, 16: 1}\n",
      "0 12 False\n",
      "{0: 0, 1: 0, 2: 1, 11: 1, 12: 0, 13: 0, 14: 1, 15: 1, 16: 1}\n",
      "0 13 False\n",
      "{0: 0, 1: 0, 2: 1, 11: 1, 12: 0, 13: 0, 14: 1, 15: 1, 16: 1}\n",
      "0 14 False\n",
      "{0: 0, 1: 0, 2: 1, 11: 1, 12: 0, 13: 0, 14: 1, 15: 1, 16: 1}\n",
      "0 15 False\n",
      "{0: 0, 1: 0, 2: 1, 11: 1, 12: 0, 13: 0, 14: 1, 15: 1, 16: 1}\n",
      "0 16 False\n",
      "{0: 0, 1: 0, 2: 1, 11: 1, 12: 0, 13: 0, 14: 1, 15: 1, 16: 1}\n",
      "1 2 False\n",
      "{0: 0, 1: 0, 2: 1, 11: 1, 12: 0, 13: 0, 14: 1, 15: 1, 16: 1}\n",
      "1 11 False\n",
      "{0: 0, 1: 0, 2: 1, 11: 1, 12: 0, 13: 0, 14: 1, 15: 1, 16: 1}\n",
      "1 12 False\n",
      "{0: 0, 1: 0, 2: 1, 11: 1, 12: 0, 13: 0, 14: 1, 15: 1, 16: 1}\n",
      "1 13 False\n",
      "{0: 0, 1: 0, 2: 1, 11: 1, 12: 0, 13: 0, 14: 1, 15: 1, 16: 1}\n",
      "1 14 False\n",
      "{0: 0, 1: 0, 2: 1, 11: 1, 12: 0, 13: 0, 14: 1, 15: 1, 16: 1}\n",
      "1 15 False\n",
      "{0: 0, 1: 0, 2: 1, 11: 1, 12: 0, 13: 0, 14: 1, 15: 1, 16: 1}\n",
      "1 16 False\n",
      "{0: 0, 1: 0, 2: 1, 11: 1, 12: 0, 13: 0, 14: 1, 15: 1, 16: 1}\n",
      "2 11 False\n",
      "{0: 0, 1: 0, 2: 1, 11: 1, 12: 0, 13: 0, 14: 1, 15: 1, 16: 1}\n",
      "2 12 False\n",
      "{0: 0, 1: 0, 2: 1, 11: 1, 12: 0, 13: 0, 14: 1, 15: 1, 16: 1}\n",
      "2 13 False\n",
      "{0: 0, 1: 0, 2: 1, 11: 1, 12: 0, 13: 0, 14: 1, 15: 1, 16: 1}\n",
      "2 14 False\n",
      "{0: 0, 1: 0, 2: 1, 11: 1, 12: 0, 13: 0, 14: 1, 15: 1, 16: 1}\n",
      "2 15 False\n",
      "{0: 0, 1: 0, 2: 1, 11: 1, 12: 0, 13: 0, 14: 1, 15: 1, 16: 1}\n",
      "2 16 False\n",
      "{0: 0, 1: 0, 2: 1, 11: 1, 12: 0, 13: 0, 14: 1, 15: 1, 16: 1}\n",
      "11 12 False\n",
      "{0: 0, 1: 0, 2: 1, 11: 1, 12: 0, 13: 0, 14: 1, 15: 1, 16: 1}\n",
      "11 13 False\n",
      "{0: 0, 1: 0, 2: 1, 11: 1, 12: 0, 13: 0, 14: 1, 15: 1, 16: 1}\n",
      "11 14 False\n",
      "{0: 0, 1: 0, 2: 1, 11: 1, 12: 0, 13: 0, 14: 1, 15: 1, 16: 1}\n",
      "11 15 False\n",
      "{0: 0, 1: 0, 2: 1, 11: 1, 12: 0, 13: 0, 14: 1, 15: 1, 16: 1}\n",
      "11 16 False\n",
      "{0: 0, 1: 0, 2: 1, 11: 1, 12: 0, 13: 0, 14: 1, 15: 1, 16: 1}\n",
      "12 13 False\n",
      "{0: 0, 1: 0, 2: 1, 11: 1, 12: 0, 13: 0, 14: 1, 15: 1, 16: 1}\n",
      "12 14 False\n",
      "{0: 0, 1: 0, 2: 1, 11: 1, 12: 0, 13: 0, 14: 1, 15: 1, 16: 1}\n",
      "12 15 False\n",
      "{0: 0, 1: 0, 2: 1, 11: 1, 12: 0, 13: 0, 14: 1, 15: 1, 16: 1}\n",
      "12 16 False\n",
      "{0: 0, 1: 0, 2: 1, 11: 1, 12: 0, 13: 0, 14: 1, 15: 1, 16: 1}\n",
      "13 14 False\n",
      "{0: 0, 1: 0, 2: 1, 11: 1, 12: 0, 13: 0, 14: 1, 15: 1, 16: 1}\n",
      "13 15 False\n",
      "{0: 0, 1: 0, 2: 1, 11: 1, 12: 0, 13: 0, 14: 1, 15: 1, 16: 1}\n",
      "13 16 False\n",
      "{0: 0, 1: 0, 2: 1, 11: 1, 12: 0, 13: 0, 14: 1, 15: 1, 16: 1}\n",
      "14 15 False\n",
      "{0: 0, 1: 0, 2: 1, 11: 1, 12: 0, 13: 0, 14: 1, 15: 1, 16: 1}\n",
      "14 16 False\n",
      "{0: 0, 1: 0, 2: 1, 11: 1, 12: 0, 13: 0, 14: 1, 15: 1, 16: 1}\n",
      "15 16 False\n"
     ]
    },
    {
     "data": {
      "text/plain": "<IPython.core.display.HTML object>",
      "text/html": "<div style=\"overflow:auto\" id=\"graph-output-eTJPQTrs\"></div>\n<script type=\"module\">\nvar d3;\nif (d3 == null) { d3 = await import(\"https://cdn.skypack.dev/d3@5\"); }\n// PyZX - Python library for quantum circuit rewriting \n//        and optimisation using the ZX-calculus\n// Copyright (C) 2023 - Boldiszar Poor, Lia Yeh and John van de Wetering\n\n// Licensed under the Apache License, Version 2.0 (the \"License\");\n// you may not use this file except in compliance with the License.\n// You may obtain a copy of the License at\n\n//    http://www.apache.org/licenses/LICENSE-2.0\n\n// Unless required by applicable law or agreed to in writing, software\n// distributed under the License is distributed on an \"AS IS\" BASIS,\n// WITHOUT WARRANTIES OR CONDITIONS OF ANY KIND, either express or implied.\n// See the License for the specific language governing permissions and\n// limitations under the License.\n\n// styling functions\nfunction nodeColor(t) {\n    if (t == 0) return \"black\";\n    else if (t == 1) return \"#ccffcc\";\n    else if (t == 2) return \"#ff8888\";\n    else if (t == 3) return \"yellow\";\n    else if (t == 4) return \"#555555\";\n}\n\nfunction edgeColor(t) {\n    if (t == 1) return \"black\";\n    else if (t == 2) return \"#08f\";\n}\n\nfunction nodeStyle(selected) {\n    return selected ? \"stroke-width: 2px; stroke: #00f\" : \"stroke-width: 1.5px\";\n}\n\n\nfunction showGraph(tag, graph, width, height, scale, node_size, show_labels) {\n    var ntab = {};\n\n    var auto_hbox = true;\n\n    graph.nodes.forEach(function(d) {\n        ntab[d.name] = d;\n        d.selected = false;\n        d.previouslySelected = false;\n        d.nhd = [];\n    });\n\n    var spiders_and_boundaries = graph.nodes.filter(function(d) {\n        return d.t != 3 && d.t != 4;\n    });\n\n    graph.links.forEach(function(d) {\n        var s = ntab[d.source];\n        var t = ntab[d.target];\n        d.source = s;\n        d.target = t;\n        s.nhd.push(t);\n        t.nhd.push(s);\n    });\n\n    var shiftKey;\n\n    // SETUP SVG ITEMS\n\n    var svg = d3.select(tag)\n    //.attr(\"tabindex\", 1)\n        .on(\"keydown.brush\", function() {shiftKey = d3.event.shiftKey || d3.event.metaKey;})\n        .on(\"keyup.brush\", function() {shiftKey = d3.event.shiftKey || d3.event.metaKey;})\n    //.each(function() { this.focus(); })\n        .append(\"svg\")\n        .attr(\"style\", \"max-width: none; max-height: none\")\n        .attr(\"width\", width)\n        .attr(\"height\", height);\n\n    var link = svg.append(\"g\")\n        .attr(\"class\", \"link\")\n        .selectAll(\"line\")\n        .data(graph.links)\n        .enter().append(\"line\")\n        .attr(\"stroke\", function(d) { return edgeColor(d.t); })\n        .attr(\"style\", \"stroke-width: 1.5px\");\n\n    var brush = svg.append(\"g\")\n        .attr(\"class\", \"brush\");\n\n    var node = svg.append(\"g\")\n        .attr(\"class\", \"node\")\n        .selectAll(\"g\")\n        .data(graph.nodes)\n        .enter().append(\"g\")\n        .attr(\"transform\", function(d) {\n            return \"translate(\" + d.x + \",\" + d.y +\")\";\n        });\n\n    node.filter(function(d) { return d.t != 3 && d.t != 4; })\n        .append(\"circle\")\n        .attr(\"r\", function(d) {\n            if (d.t == 0) return 0.5 * node_size;\n            else return node_size;\n        })\n        .attr(\"fill\", function(d) { return nodeColor(d.t); })\n        .attr(\"stroke\", \"black\")\n        .attr(\"class\", \"selectable\");\n\n    var hbox = node.filter(function(d) { return d.t == 3 || d.t == 4; });\n\n    hbox.append(\"rect\")\n        .attr(\"x\", -0.75 * node_size).attr(\"y\", -0.75 * node_size)\n        .attr(\"width\", node_size * 1.5).attr(\"height\", node_size * 1.5)\n        .attr(\"fill\", function(d) { return nodeColor(d.t); })\n        .attr(\"stroke\", \"black\")\n        .attr('style', 'pointer-events: none; user-select: none;');\n        // .attr(\"class\", \"selectable\");\n\n    node.filter(function(d) { return d.phase != '' && d.t > 2; })\n        .append(\"text\")\n        .attr(\"y\", -0.1 * node_size + 4)\n        .text(function (d) { return d.phase })\n        .attr(\"text-anchor\", \"middle\")\n        .attr(\"font-size\", \"11px\")\n        .attr(\"font-family\", \"monospace\")\n        .attr(\"fill\", \"#000\")\n        .attr('style', 'pointer-events: none; user-select: none;');\n\n    node.filter(function(d) { return d.phase != '' && d.t < 3; })\n        .append(\"text\")\n        .attr(\"y\", -1.3 * node_size)\n        .text(function (d) { return d.phase })\n        .attr(\"text-anchor\", \"middle\")\n        .attr(\"font-size\", \"11px\")\n        .attr(\"font-family\", \"monospace\")\n        .attr(\"fill\", \"#00d\")\n        .attr('style', 'pointer-events: none; user-select: none;');\n\n    if (show_labels) {\n        node.append(\"text\")\n            .attr(\"y\", -0.7 * node_size - 8)\n            .text(function (d) { return d.name; })\n            .attr(\"text-anchor\", \"middle\")\n            .attr(\"font-size\", \"10px\")\n            .attr(\"font-family\", \"monospace\")\n            .attr(\"fill\", \"#999\")\n            .attr('style', 'pointer-events: none; user-select: none;');\n    }\n\n    function update_hboxes() {\n        if (auto_hbox) {\n            // var pos = {};\n            hbox.attr(\"transform\", function(d) {\n                // calculate barycenter of non-hbox neighbours, then nudge a bit\n                // to the NE.\n                var x=0,y=0,sz=0;\n                for (var i = 0; i < d.nhd.length; ++i) {\n                    if (d.nhd[i].t != 3 && d.nhd[i].t != 4) {\n                        sz++;\n                        x += d.nhd[i].x;\n                        y += d.nhd[i].y;\n                    }\n                }\n\n                // var offset = 0.25 * scale;\n                var offset = 0;\n\n                if (sz != 0) {\n                    x = (x/sz) + offset;\n                    y = (y/sz) - offset;\n\n                    // while (pos[[x,y]]) {\n                    //     x += offset;\n                    // }\n                    d.x = x;\n                    d.y = y;\n                    // pos[[x,y]] = true;\n                }\n\n                return \"translate(\"+d.x+\",\"+d.y+\")\";\n            });\n        }\n    }\n\n    update_hboxes();\n\n    link.attr(\"x1\", function(d) { return d.source.x; })\n        .attr(\"y1\", function(d) { return d.source.y; })\n        .attr(\"x2\", function(d) { return d.target.x; })\n        .attr(\"y2\", function(d) { return d.target.y; });\n\n    // EVENTS FOR DRAGGING AND SELECTION\n\n    node.on(\"mousedown\", function(d) {\n        if (shiftKey) {\n            d3.select(this).selectAll(\".selectable\").attr(\"style\", nodeStyle(d.selected = !d.selected));\n            d3.event.stopImmediatePropagation();\n        } else if (!d.selected) {\n            node.selectAll(\".selectable\").attr(\"style\", function(p) { return nodeStyle(p.selected = d === p); });\n        }\n    })\n        .call(d3.drag().on(\"drag\", function(d) {\n            var dx = d3.event.dx;\n            var dy = d3.event.dy;\n            // node.filter(function(d) { return d.selected; })\n            //     .attr(\"cx\", function(d) { return d.x += dx; })\n            //     .attr(\"cy\", function(d) { return d.y += dy; });\n            node.filter(function(d) { return d.selected; })\n                .attr(\"transform\", function(d) {\n                    d.x += dx;\n                    d.y += dy;\n                    return \"translate(\" + d.x + \",\" + d.y +\")\";\n                });\n\n            update_hboxes();\n\n            link.filter(function(d) { return d.source.selected ||\n                    (auto_hbox && (d.source.t == 3 || d.source.t == 4)); })\n                .attr(\"x1\", function(d) { return d.source.x; })\n                .attr(\"y1\", function(d) { return d.source.y; });\n\n            link.filter(function(d) { return d.target.selected ||\n                    (auto_hbox && (d.target.t == 3 || d.target.t == 4)); })\n                .attr(\"x2\", function(d) { return d.target.x; })\n                .attr(\"y2\", function(d) { return d.target.y; });\n\n            // text.filter(function(d) { return d.selected; })\n            //     .attr(\"x\", function(d) { return d.x; })\n            //     .attr(\"y\", function(d) { return d.y + 0.7 * node_size + 14; });\n        }));\n\n    brush.call(d3.brush().keyModifiers(false)\n        .extent([[0, 0], [width, height]])\n        .on(\"start\", function() {\n            if (d3.event.sourceEvent.type !== \"end\") {\n                node.selectAll(\".selectable\").attr(\"style\", function(d) {\n                    return nodeStyle(\n                        d.selected = d.previouslySelected = shiftKey &&\n                        d.selected);\n                });\n            }\n        })\n        .on(\"brush\", function() {\n            if (d3.event.sourceEvent.type !== \"end\") {\n                var selection = d3.event.selection;\n                node.selectAll(\".selectable\").attr(\"style\", function(d) {\n                    return nodeStyle(d.selected = d.previouslySelected ^\n                        (selection != null\n                            && selection[0][0] <= d.x && d.x < selection[1][0]\n                            && selection[0][1] <= d.y && d.y < selection[1][1]));\n                });\n            }\n        })\n        .on(\"end\", function() {\n            if (d3.event.selection != null) {\n                d3.select(this).call(d3.event.target.move, null);\n            }\n        }));\n}\n\n\nshowGraph('#graph-output-eTJPQTrs',\n  JSON.parse('{\"nodes\": [{\"name\": \"0\", \"x\": 50, \"y\": 100, \"t\": 0, \"phase\": \"\"}, {\"name\": \"1\", \"x\": 50, \"y\": 150, \"t\": 0, \"phase\": \"\"}, {\"name\": \"2\", \"x\": 100, \"y\": 100, \"t\": 1, \"phase\": \"1,0\"}, {\"name\": \"11\", \"x\": 350, \"y\": 100, \"t\": 1, \"phase\": \"\"}, {\"name\": \"12\", \"x\": 450.0, \"y\": 100, \"t\": 0, \"phase\": \"\"}, {\"name\": \"13\", \"x\": 450.0, \"y\": 150, \"t\": 0, \"phase\": \"\"}, {\"name\": \"14\", \"x\": 100.0, \"y\": 150.0, \"t\": 1, \"phase\": \"\"}, {\"name\": \"15\", \"x\": 400.0, \"y\": 100, \"t\": 1, \"phase\": \"\"}, {\"name\": \"16\", \"x\": 350.0, \"y\": 150.0, \"t\": 1, \"phase\": \"2,0\"}, {\"name\": \"2, 11\", \"x\": 225.0, \"y\": 100.0, \"t\": 3, \"phase\": \"2\"}, {\"name\": \"2, 16\", \"x\": 225.0, \"y\": 125.0, \"t\": 3, \"phase\": \"\"}, {\"name\": \"11, 15\", \"x\": 375.0, \"y\": 100.0, \"t\": 3, \"phase\": \"\"}, {\"name\": \"14, 16\", \"x\": 225.0, \"y\": 150.0, \"t\": 3, \"phase\": \"2\"}], \"links\": [{\"source\": \"0\", \"target\": \"2\", \"t\": 1}, {\"source\": \"1\", \"target\": \"14\", \"t\": 1}, {\"source\": \"2\", \"target\": \"2, 11\", \"t\": 1}, {\"source\": \"2, 11\", \"target\": \"11\", \"t\": 1}, {\"source\": \"2\", \"target\": \"2, 16\", \"t\": 1}, {\"source\": \"2, 16\", \"target\": \"16\", \"t\": 1}, {\"source\": \"11\", \"target\": \"11, 15\", \"t\": 1}, {\"source\": \"11, 15\", \"target\": \"15\", \"t\": 1}, {\"source\": \"12\", \"target\": \"15\", \"t\": 1}, {\"source\": \"13\", \"target\": \"16\", \"t\": 1}, {\"source\": \"14\", \"target\": \"14, 16\", \"t\": 1}, {\"source\": \"14, 16\", \"target\": \"16\", \"t\": 1}]}'), 500.0, 200, 50,\n  10.0, false);\n</script>"
     },
     "metadata": {},
     "output_type": "display_data"
    }
   ],
   "source": [
    "from dizx.simplify import _apply_pivot_amap\n",
    "\n",
    "to_graph_like(g)\n",
    "_apply_pivot_amap(g)\n",
    "dizx.draw(g)"
   ],
   "metadata": {
    "collapsed": false,
    "ExecuteTime": {
     "end_time": "2023-07-12T19:18:00.346Z",
     "start_time": "2023-07-12T19:18:00.329209Z"
    }
   }
  },
  {
   "cell_type": "code",
   "execution_count": 34,
   "outputs": [],
   "source": [],
   "metadata": {
    "collapsed": false,
    "ExecuteTime": {
     "end_time": "2023-07-12T19:18:00.348530Z",
     "start_time": "2023-07-12T19:18:00.347075Z"
    }
   }
  }
 ],
 "metadata": {
  "kernelspec": {
   "display_name": "Python 3",
   "language": "python",
   "name": "python3"
  },
  "language_info": {
   "codemirror_mode": {
    "name": "ipython",
    "version": 2
   },
   "file_extension": ".py",
   "mimetype": "text/x-python",
   "name": "python",
   "nbconvert_exporter": "python",
   "pygments_lexer": "ipython2",
   "version": "2.7.6"
  }
 },
 "nbformat": 4,
 "nbformat_minor": 0
}
